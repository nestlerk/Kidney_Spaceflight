{
 "cells": [
  {
   "cell_type": "code",
   "execution_count": null,
   "metadata": {},
   "outputs": [],
   "source": [
    "## Load packages\n",
    "import pandas as pd\n",
    "import numpy as np\n",
    "import palettable\n",
    "%matplotlib inline\n",
    "%config InlineBackend.figure_format = 'retina'\n",
    "from matplotlib import rcParams\n",
    "from comut import comut"
   ]
  },
  {
   "cell_type": "code",
   "execution_count": null,
   "metadata": {},
   "outputs": [],
   "source": [
    "#read in data\n",
    "diff_df = pd.read_csv(\"difference_input.csv\")\n",
    "stat_df = pd.read_csv(\"stat_input.csv\")"
   ]
  },
  {
   "cell_type": "code",
   "execution_count": null,
   "metadata": {},
   "outputs": [],
   "source": [
    "#melt the data\n",
    "diff_df_melt = pd.melt(diff_df, id_vars=['feature'], var_name='Label', value_name='Difference')\n",
    "stat_df_melt = pd.melt(stat_df, id_vars=['feature'], var_name='Label', value_name='P_Value')"
   ]
  },
  {
   "cell_type": "code",
   "execution_count": null,
   "metadata": {},
   "outputs": [],
   "source": [
    "#concatenate the dataframes\n",
    "df = pd.concat([diff_df_melt, stat_df_melt['P_Value']], axis=1)"
   ]
  },
  {
   "cell_type": "code",
   "execution_count": null,
   "metadata": {},
   "outputs": [],
   "source": [
    "#fill the empty cells with NaN\n",
    "df = df.replace('-', np.nan)"
   ]
  },
  {
   "cell_type": "code",
   "execution_count": null,
   "metadata": {},
   "outputs": [],
   "source": [
    "#convert the P_Value column to numeric values\n",
    "df['P_Value'] = pd.to_numeric(df['P_Value'])"
   ]
  },
  {
   "cell_type": "code",
   "execution_count": null,
   "metadata": {},
   "outputs": [],
   "source": [
    "#convert the Difference column to numeric values\n",
    "df['Difference'] = pd.to_numeric(df['Difference'])"
   ]
  },
  {
   "cell_type": "code",
   "execution_count": null,
   "metadata": {},
   "outputs": [],
   "source": [
    "#keep only the rows with a p value < 0.05\n",
    "df = df[df['P_Value'] < 0.05]"
   ]
  },
  {
   "cell_type": "code",
   "execution_count": null,
   "metadata": {},
   "outputs": [],
   "source": [
    "#multiply the difference by -1\n",
    "df['Difference'] = df['Difference'] * -1"
   ]
  },
  {
   "cell_type": "code",
   "execution_count": null,
   "metadata": {},
   "outputs": [],
   "source": [
    "#if the difference is positive, label it up\n",
    "df.loc[df['Difference'] > 0, 'Direction'] = 'Up'"
   ]
  },
  {
   "cell_type": "code",
   "execution_count": null,
   "metadata": {},
   "outputs": [],
   "source": [
    "#if the difference is negative, label it down\n",
    "df.loc[df['Difference'] < 0, 'Direction'] = 'Down'"
   ]
  },
  {
   "cell_type": "code",
   "execution_count": null,
   "metadata": {},
   "outputs": [],
   "source": [
    "#count the number of times a feature is observed across the samples\n",
    "df['Count'] = df.groupby('feature')['feature'].transform('count')"
   ]
  },
  {
   "cell_type": "code",
   "execution_count": null,
   "metadata": {},
   "outputs": [],
   "source": [
    "#sort by the count column\n",
    "df = df.sort_values(by=['Count'], ascending=False)"
   ]
  },
  {
   "cell_type": "code",
   "execution_count": null,
   "metadata": {},
   "outputs": [],
   "source": [
    "#define the sample order\n",
    "sample_order = ['STS-135', 'RR6[R+4]', 'RR9', 'RR23_Met', 'RR1_Met', 'RR6[L+56]']"
   ]
  },
  {
   "cell_type": "code",
   "execution_count": null,
   "metadata": {},
   "outputs": [],
   "source": [
    "#read in relabeled metadata file\n",
    "df_label = pd.read_csv('sample_label_mapping.csv')"
   ]
  },
  {
   "cell_type": "code",
   "execution_count": null,
   "metadata": {},
   "outputs": [],
   "source": [
    "#remove the samples that are not in the sample list\n",
    "df_label = df_label[df_label['Sample'].isin(sample_order)]"
   ]
  },
  {
   "cell_type": "code",
   "execution_count": null,
   "metadata": {},
   "outputs": [],
   "source": [
    "#turn the label column into a list\n",
    "label_list = df_label['Label'].tolist()"
   ]
  },
  {
   "cell_type": "code",
   "execution_count": null,
   "metadata": {},
   "outputs": [],
   "source": [
    "#assign the dataframe to a new variable\n",
    "sig_df = df"
   ]
  },
  {
   "cell_type": "code",
   "execution_count": null,
   "metadata": {},
   "outputs": [],
   "source": [
    "#store the order of the features into a list\n",
    "feature_order = sig_df['feature'].tolist()"
   ]
  },
  {
   "cell_type": "code",
   "execution_count": null,
   "metadata": {},
   "outputs": [],
   "source": [
    "#remove duplicate category names\n",
    "feature_order = list(dict.fromkeys(feature_order))"
   ]
  },
  {
   "cell_type": "code",
   "execution_count": null,
   "metadata": {},
   "outputs": [],
   "source": [
    "#reverse the order of the category names\n",
    "feature_order.reverse()"
   ]
  },
  {
   "cell_type": "code",
   "execution_count": null,
   "metadata": {},
   "outputs": [],
   "source": [
    "#subset the dataframe into a new dataframe\n",
    "df_fc = sig_df[['Label', 'feature', 'Direction']]"
   ]
  },
  {
   "cell_type": "code",
   "execution_count": null,
   "metadata": {},
   "outputs": [],
   "source": [
    "#rename the columns to match the format of the comut package\n",
    "df_fc.columns = ['sample', 'category', 'value']"
   ]
  },
  {
   "cell_type": "code",
   "execution_count": null,
   "metadata": {},
   "outputs": [],
   "source": [
    "#read in metadata file\n",
    "df_meta = pd.read_csv('sample_metadata.csv')"
   ]
  },
  {
   "cell_type": "code",
   "execution_count": null,
   "metadata": {},
   "outputs": [],
   "source": [
    "#keep only the samples that are in the sample list\n",
    "df_meta = df_meta[df_meta['Label'].isin(sample_order)]"
   ]
  },
  {
   "cell_type": "code",
   "execution_count": null,
   "metadata": {},
   "outputs": [],
   "source": [
    "#order the Labels in the metadata file\n",
    "df_meta['Label'] = pd.Categorical(df_meta['Label'], sample_order)"
   ]
  },
  {
   "cell_type": "code",
   "execution_count": null,
   "metadata": {},
   "outputs": [],
   "source": [
    "#make a new dataframe with the sample names and tissue types\n",
    "df_tis = df_meta[['Label', 'Sample']]\n",
    "df_tis = df_tis.melt(id_vars=['Label'], value_vars=['Sample'])\n",
    "df_tis.columns = ['sample', 'category', 'value']"
   ]
  },
  {
   "cell_type": "code",
   "execution_count": null,
   "metadata": {},
   "outputs": [],
   "source": [
    "#make a new dataframe with the sample names and radiation type\n",
    "df_rad = df_meta[['Label', 'Exposure']]\n",
    "df_rad = df_rad.melt(id_vars=['Label'], value_vars=['Exposure'])\n",
    "df_rad.columns = ['sample', 'category', 'value']"
   ]
  },
  {
   "cell_type": "code",
   "execution_count": null,
   "metadata": {},
   "outputs": [],
   "source": [
    "#make a new dataframe with the sample names and species\n",
    "df_spe = df_meta[['Label', 'Species']]\n",
    "df_spe = df_spe.melt(id_vars=['Label'], value_vars=['Species'])\n",
    "df_spe.columns = ['sample', 'category', 'value']"
   ]
  },
  {
   "cell_type": "code",
   "execution_count": null,
   "metadata": {},
   "outputs": [],
   "source": [
    "#make a new dataframe with the sample names and Omics\n",
    "df_dat = df_meta[['Label', 'Omic']]\n",
    "df_dat = df_dat.melt(id_vars=['Label'], value_vars=['Omic'])\n",
    "df_dat.columns = ['sample', 'category', 'value']"
   ]
  },
  {
   "cell_type": "code",
   "execution_count": null,
   "metadata": {},
   "outputs": [],
   "source": [
    "#loading in color palettes\n",
    "vivid_10 = palettable.cartocolors.qualitative.Vivid_10.mpl_colors\n",
    "balance_6 = palettable.cmocean.diverging.Balance_6.mpl_colors\n",
    "safe_10 = palettable.cartocolors.qualitative.Safe_10.mpl_colors\n",
    "vivid_10 = palettable.cartocolors.qualitative.Vivid_10.mpl_colors\n",
    "purp_7 = palettable.cartocolors.sequential.Purp_7.mpl_colormap\n",
    "tab20 = palettable.tableau.Tableau_20.mpl_colors\n",
    "color_list = palettable.colorbrewer.qualitative.Set1_9.mpl_colors\n",
    "\n",
    "#setting aesthetic parameters\n",
    "custom_rcParams = {\n",
    "    'font.family': 'Arial',\n",
    "    'font.size': 12,\n",
    "    'axes.labelsize': 18,\n",
    "    'legend.fontsize': 18,\n",
    "    'ytick.labelsize': 18,\n",
    "    'xtick.labelsize': 18,  \n",
    "}\n",
    "\n",
    "rcParams.update(custom_rcParams)"
   ]
  },
  {
   "cell_type": "code",
   "execution_count": null,
   "metadata": {},
   "outputs": [],
   "source": [
    "#assign the color mappings\n",
    "fc_mapping = {'Up': 'Green', 'Unknown': 'lightgrey', 'Down': 'Red', 'No Change': 'Black'}\n",
    "\n",
    "tis_mapping = {'Faeces': tab20[17]}\n",
    "\n",
    "rad_mapping = {'Spaceflight': tab20[19]}\n",
    "\n",
    "spe_mapping = {'Mouse': tab20[8]}\n",
    "\n",
    "dat_mapping = {'Metagenome': safe_10[9]}\n",
    "\n",
    "side_mapping = {'frequency': 'lightgrey'}\n",
    "side_kwargs = {'height': 0.8}\n",
    "\n",
    "#set the category order\n",
    "category_order = feature_order"
   ]
  },
  {
   "attachments": {},
   "cell_type": "markdown",
   "metadata": {},
   "source": [
    "## **All significant features shown**"
   ]
  },
  {
   "attachments": {},
   "cell_type": "markdown",
   "metadata": {},
   "source": [
    "## Categorical heatmap"
   ]
  },
  {
   "cell_type": "code",
   "execution_count": null,
   "metadata": {},
   "outputs": [],
   "source": [
    "#produce the comut plot\n",
    "deg_comut = comut.CoMut()\n",
    "\n",
    "deg_comut.samples = sample_order\n",
    "\n",
    "deg_comut.add_categorical_data(df_fc, mapping=fc_mapping, category_order=category_order, name = 'Direction')\n",
    "\n",
    "deg_comut.add_categorical_data(df_tis, mapping=tis_mapping, name = 'Sample')\n",
    "\n",
    "deg_comut.add_categorical_data(df_rad, mapping=rad_mapping, name = 'Exposure')\n",
    "\n",
    "deg_comut.add_categorical_data(df_spe, mapping=spe_mapping, name = 'Species')\n",
    "\n",
    "deg_comut.add_categorical_data(df_dat, mapping=dat_mapping, name = 'Omic')\n",
    "\n",
    "deg_comut.plot_comut(figsize = (6, 10), x_padding = 0.02, y_padding = 0.02, hspace = 0.01,\n",
    "                    wspace = 0.01, widths = (5, 0.5))\n",
    "\n",
    "deg_comut.axes['Omic'].set_xticklabels(label_list)\n",
    "\n",
    "deg_comut.add_unified_legend(bbox_to_anchor = (1.2,1.0), frameon = True)"
   ]
  }
 ],
 "metadata": {
  "kernelspec": {
   "display_name": "base",
   "language": "python",
   "name": "python3"
  },
  "language_info": {
   "codemirror_mode": {
    "name": "ipython",
    "version": 3
   },
   "file_extension": ".py",
   "mimetype": "text/x-python",
   "name": "python",
   "nbconvert_exporter": "python",
   "pygments_lexer": "ipython3",
   "version": "3.10.6"
  },
  "orig_nbformat": 4
 },
 "nbformat": 4,
 "nbformat_minor": 2
}
