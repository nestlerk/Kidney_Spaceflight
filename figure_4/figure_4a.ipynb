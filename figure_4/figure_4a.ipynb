{
 "cells": [
  {
   "cell_type": "markdown",
   "metadata": {},
   "source": [
    "#### Import packages"
   ]
  },
  {
   "cell_type": "code",
   "execution_count": null,
   "metadata": {},
   "outputs": [],
   "source": [
    "## Load packages\n",
    "import pandas as pd\n",
    "import seaborn as sns\n",
    "import matplotlib.pyplot as plt"
   ]
  },
  {
   "cell_type": "markdown",
   "metadata": {},
   "source": [
    "#### Read in DisGeNET output for all datasets"
   ]
  },
  {
   "cell_type": "code",
   "execution_count": null,
   "metadata": {},
   "outputs": [],
   "source": [
    "# read in proteomic data\n",
    "# IP = immpostvpre\n",
    "# PP = postpostvpre\n",
    "# pl = plasma\n",
    "# ex = exosomes\n",
    "df_BNL3 = pd.read_csv('BNL3_DisGeNET_output_genome.csv')\n",
    "df_I4_ex_IP = pd.read_csv('Inspiration4_exosomes_immpostVpre_DisGeNET_output_genome.csv')\n",
    "df_I4_pl_IP = pd.read_csv('Inspiration4_plasma_immpostVpre_DisGeNET_output_genome.csv')\n",
    "df_NSRL_F = pd.read_csv('NSRL22A_II_F_vs_I_F_no_imput_DisGeNET_output_genome.csv')\n",
    "df_NSRL_M = pd.read_csv('NSRL22A_II_M_vs_I_M_no_imput_DisGeNET_output_genome.csv')\n",
    "df_RR1 = pd.read_csv('RR1_DisGeNET_output_genome.csv')\n",
    "df_RR3 = pd.read_csv('RR3_DisGeNET_output_genome.csv')\n",
    "df_RR10 = pd.read_csv('RR10_DisGeNET_output_genome.csv')\n",
    "df_RR19 = pd.read_csv('RR19_DisGeNET_output_genome.csv')"
   ]
  },
  {
   "cell_type": "code",
   "execution_count": null,
   "metadata": {},
   "outputs": [],
   "source": [
    "# read in transcriptomic data\n",
    "df_RR1_R = pd.read_csv('RR1_RNA_DisGeNET_output_genome.csv')\n",
    "df_RR3_R = pd.read_csv('RR3_RNA_DisGeNET_output_genome.csv')\n",
    "df_RR7_C3_25 = pd.read_csv('RR7_RNA_C3HHeJ_GCvsSF_25d_DisGeNET_output_genome.csv')\n",
    "df_RR7_C3_75 = pd.read_csv('RR7_RNA_C3HHeJ_GCvsSF_75d_DisGeNET_output_genome.csv')\n",
    "df_RR7_C5_25 = pd.read_csv('RR7_RNA_C57BL6J_GCvsSF_25d_DisGeNET_output_genome.csv')\n",
    "df_RR7_C5_75 = pd.read_csv('RR7_RNA_C57BL6J_GCvsSF_75d_DisGeNET_output_genome.csv')\n",
    "df_RR10_R = pd.read_csv('RR10_mRNA_DisGeNET_output_genome.csv')\n",
    "df_RR23 = pd.read_csv('RR23_RNA_DisGeNET_output_genome.csv')\n",
    "df_MHU1_MGGC = pd.read_csv('MHU1_RNA_MGvGC_DisGeNET_output_genome.csv')\n",
    "df_MHU3 = pd.read_csv('MHU3_RNA_DisGeNET_output_genome.csv')\n",
    "df_JAXA_PF1 = pd.read_csv('JAXA_RNA_preVflight1_DisGeNET_output_genome.csv')\n",
    "df_JAXA_PF4 = pd.read_csv('JAXA_RNA_preVflight4_DisGeNET_output_genome.csv')"
   ]
  },
  {
   "cell_type": "code",
   "execution_count": null,
   "metadata": {},
   "outputs": [],
   "source": [
    "# read in PTM data\n",
    "df_RR10_PTM = pd.read_csv('RR10_Phos_DisGeNET_output_genome.csv')"
   ]
  },
  {
   "cell_type": "code",
   "execution_count": null,
   "metadata": {},
   "outputs": [],
   "source": [
    "# read in epigenomic data\n",
    "df_RR1_E = pd.read_csv('RR1_Epi_DisGeNET_output_genome.csv')\n",
    "df_RR3_E = pd.read_csv('RR3_Epi_DisGeNET_output_genome.csv')"
   ]
  },
  {
   "cell_type": "code",
   "execution_count": null,
   "metadata": {},
   "outputs": [],
   "source": [
    "# make a list of the dataframes\n",
    "df_list = [df_BNL3, df_I4_ex_IP, df_I4_pl_IP, df_NSRL_F, df_NSRL_M, df_RR1, df_RR3, df_RR10, \n",
    "           df_RR19, df_RR1_R, df_RR3_R, df_RR7_C3_25, df_RR7_C3_75, df_RR7_C5_25, df_RR7_C5_75, \n",
    "           df_RR10_R, df_RR23, df_MHU1_MGGC, df_MHU3, df_JAXA_PF1, df_JAXA_PF4, df_RR10_PTM, \n",
    "           df_RR1_E, df_RR3_E]"
   ]
  },
  {
   "cell_type": "code",
   "execution_count": null,
   "metadata": {},
   "outputs": [],
   "source": [
    "# for loop to add a column for the sample name\n",
    "for df in df_list:\n",
    "    if df is df_BNL3:\n",
    "        df['Sample'] = 'BNL3_Protein'\n",
    "    elif df is df_I4_ex_IP:\n",
    "        df['Sample'] = 'Inspiration4_exosomes_immpostVpre_Protein'\n",
    "    elif df is df_I4_pl_IP:\n",
    "        df['Sample'] = 'Inspiration4_plasma_immpostVpre_Protein'\n",
    "    elif df is df_NSRL_F:\n",
    "        df['Sample'] = 'NSRL22A_II_F_vs_I_F_Protein'\n",
    "    elif df is df_NSRL_M:\n",
    "        df['Sample'] = 'NSRL22A_II_M_vs_I_M_Protein'\n",
    "    elif df is df_RR1:\n",
    "        df['Sample'] = 'RR1_Protein'\n",
    "    elif df is df_RR3:\n",
    "        df['Sample'] = 'RR3_Protein'\n",
    "    elif df is df_RR10:\n",
    "        df['Sample'] = 'RR10_Protein'\n",
    "    elif df is df_RR19:\n",
    "        df['Sample'] = 'RR19_Protein'\n",
    "    elif df is df_RR1_R:\n",
    "        df['Sample'] = 'RR1_RNA'\n",
    "    elif df is df_RR3_R:\n",
    "        df['Sample'] = 'RR3_RNA'\n",
    "    elif df is df_RR7_C3_25:\n",
    "        df['Sample'] = 'RR7_C3HHeJ_GCvsSF_25d_RNA'\n",
    "    elif df is df_RR7_C3_75:\n",
    "        df['Sample'] = 'RR7_C3HHeJ_GCvsSF_75d_RNA'\n",
    "    elif df is df_RR7_C5_25:\n",
    "        df['Sample'] = 'RR7_C57BL6J_GCvsSF_25d_RNA'\n",
    "    elif df is df_RR7_C5_75:\n",
    "        df['Sample'] = 'RR7_C57BL6J_GCvsSF_75d_RNA'\n",
    "    elif df is df_RR10_R:\n",
    "        df['Sample'] = 'RR10_RNA'\n",
    "    elif df is df_RR23:\n",
    "        df['Sample'] = 'RR23_RNA'\n",
    "    elif df is df_MHU1_MGGC:\n",
    "        df['Sample'] = 'MHU1_MGvGC_RNA'\n",
    "    elif df is df_MHU3:\n",
    "        df['Sample'] = 'MHU3_RNA'\n",
    "    elif df is df_JAXA_PF1:\n",
    "        df['Sample'] = 'JAXA_preVflight1_RNA'\n",
    "    elif df is df_JAXA_PF4:\n",
    "        df['Sample'] = 'JAXA_preVflight4_RNA'\n",
    "    elif df is df_RR10_PTM:\n",
    "        df['Sample'] = 'RR10_PTM'\n",
    "    elif df is df_RR1_E:\n",
    "        df['Sample'] = 'RR1_Epi'\n",
    "    elif df is df_RR3_E:\n",
    "        df['Sample'] = 'RR3_Epi'"
   ]
  },
  {
   "cell_type": "code",
   "execution_count": null,
   "metadata": {},
   "outputs": [],
   "source": [
    "# combine all dataframes into one\n",
    "df_all = pd.concat(df_list)"
   ]
  },
  {
   "cell_type": "markdown",
   "metadata": {},
   "source": [
    "#### Prepare data"
   ]
  },
  {
   "cell_type": "code",
   "execution_count": null,
   "metadata": {},
   "outputs": [],
   "source": [
    "# keep only the columns we need\n",
    "disgenet = df_all[['Sample', 'GO', 'Description', 'LogP', '#GeneInGOAndHitList', '%InGO']]"
   ]
  },
  {
   "cell_type": "code",
   "execution_count": null,
   "metadata": {},
   "outputs": [],
   "source": [
    "# concatenate the GO and Description columns\n",
    "disgenet['Description'] = disgenet['GO'] + ': ' + disgenet['Description']"
   ]
  },
  {
   "cell_type": "code",
   "execution_count": null,
   "metadata": {},
   "outputs": [],
   "source": [
    "# drop the GO column\n",
    "disgenet = disgenet.drop(columns = ['GO'])"
   ]
  },
  {
   "cell_type": "code",
   "execution_count": null,
   "metadata": {},
   "outputs": [],
   "source": [
    "# make LogP values negative\n",
    "disgenet['-LogP'] = disgenet['LogP'] * -1"
   ]
  },
  {
   "cell_type": "code",
   "execution_count": null,
   "metadata": {},
   "outputs": [],
   "source": [
    "# drop the LogP column\n",
    "disgenet = disgenet.drop(columns = ['LogP'])"
   ]
  },
  {
   "cell_type": "code",
   "execution_count": null,
   "metadata": {},
   "outputs": [],
   "source": [
    "# calculate the gene ratio. we'll use this as the enrichment score\n",
    "disgenet['Gene Ratio'] = disgenet['%InGO'] / 100"
   ]
  },
  {
   "cell_type": "code",
   "execution_count": null,
   "metadata": {},
   "outputs": [],
   "source": [
    "# drop the %InGO column\n",
    "disgenet = disgenet.drop(columns = ['%InGO'])"
   ]
  },
  {
   "cell_type": "code",
   "execution_count": null,
   "metadata": {},
   "outputs": [],
   "source": [
    "# rename the #GeneInGOAndHitList column\n",
    "disgenet = disgenet.rename(columns = {'#GeneInGOAndHitList': 'Gene Count'})"
   ]
  },
  {
   "cell_type": "code",
   "execution_count": null,
   "metadata": {},
   "outputs": [],
   "source": [
    "# reorder the columns and store into a new dataframe\n",
    "new_disgenet = disgenet[['Sample', 'Description', 'Gene Count', 'Gene Ratio', '-LogP']]"
   ]
  },
  {
   "cell_type": "code",
   "execution_count": null,
   "metadata": {},
   "outputs": [],
   "source": [
    "# filter for only the terms we're interested in\n",
    "new_disgenet = new_disgenet[new_disgenet['Description'].str.contains('Nephrolithiasis|Hypercalciuria|Hyperoxaluria')]\n",
    "new_disgenet = new_disgenet[new_disgenet['Description'] != 'C0020501: Primary Hyperoxaluria']"
   ]
  },
  {
   "cell_type": "code",
   "execution_count": null,
   "metadata": {},
   "outputs": [],
   "source": [
    "#remove the descriptions that are only present in one sample\n",
    "new_disgenet = new_disgenet.groupby('Description').filter(lambda x: len(x) > 1)"
   ]
  },
  {
   "cell_type": "code",
   "execution_count": null,
   "metadata": {},
   "outputs": [],
   "source": [
    "#make a column for the max -LogP value for each description\n",
    "new_disgenet['Max -LogP'] = new_disgenet.groupby('Description')['-LogP'].transform('max')"
   ]
  },
  {
   "cell_type": "code",
   "execution_count": null,
   "metadata": {},
   "outputs": [],
   "source": [
    "#make a column for the count of each description observed across datasets\n",
    "new_disgenet['Count'] = new_disgenet.groupby('Description')['Description'].transform('count')"
   ]
  },
  {
   "cell_type": "code",
   "execution_count": null,
   "metadata": {},
   "outputs": [],
   "source": [
    "#reassigning the dataframe variable\n",
    "df = new_disgenet"
   ]
  },
  {
   "cell_type": "code",
   "execution_count": null,
   "metadata": {},
   "outputs": [],
   "source": [
    "#sort the dataframe according the the sample order list\n",
    "sample_order = ['RR10_PTM', 'BNL3_Protein', 'NSRL22A_II_F_vs_I_F_Protein', 'NSRL22A_II_M_vs_I_M_Protein', 'RR10_Protein', \n",
    "                'RR1_Protein', 'RR3_Protein', 'RR19_Protein', 'Inspiration4_plasma_immpostVpre_Protein', \n",
    "                'Inspiration4_exosomes_immpostVpre_Protein', 'RR7_C3HHeJ_GCvsSF_25d_RNA', 'RR7_C57BL6J_GCvsSF_25d_RNA', \n",
    "                'RR10_RNA', 'MHU3_RNA', 'RR23_RNA', 'RR1_RNA', 'RR3_RNA', 'RR7_C3HHeJ_GCvsSF_75d_RNA', \n",
    "                'RR7_C57BL6J_GCvsSF_75d_RNA', 'MHU1_MGvGC_RNA', 'JAXA_preVflight1_RNA', 'JAXA_preVflight4_RNA', 'RR1_Epi', \n",
    "                'RR3_Epi']\n",
    "df['Sample'] = pd.Categorical(df['Sample'], categories=sample_order, ordered=True)"
   ]
  },
  {
   "cell_type": "code",
   "execution_count": null,
   "metadata": {},
   "outputs": [],
   "source": [
    "# sort the dataframe\n",
    "df = df.sort_values(by=['Count', 'Max -LogP', 'Gene Count'], ascending=[False, False, False])"
   ]
  },
  {
   "attachments": {},
   "cell_type": "markdown",
   "metadata": {},
   "source": [
    "#### Generate the plot"
   ]
  },
  {
   "cell_type": "code",
   "execution_count": null,
   "metadata": {},
   "outputs": [],
   "source": [
    "#set the style\n",
    "sns.set_context(\"paper\")"
   ]
  },
  {
   "cell_type": "code",
   "execution_count": null,
   "metadata": {},
   "outputs": [],
   "source": [
    "# Create figure and axes\n",
    "fig, ax = plt.subplots(figsize=(12,2))\n",
    "sns.scatterplot(data=df, x='Sample', y='Description', size='-LogP', edgecolor=\"w\", hue='Gene Ratio', \n",
    "                sizes=(100, 300), palette='flare', legend=\"brief\", ax=ax)\n",
    "# Create custom legend with -LogP\n",
    "h, l = ax.get_legend_handles_labels()\n",
    "plt.legend(h[8:14], l[8:14], title='-LogP', bbox_to_anchor=(1.2, 0.8), loc=2, fontsize=14, \n",
    "           borderaxespad=0., title_fontsize=14)\n",
    "# Create custom olorbar legend with gene ratio\n",
    "handles, labels = ax.get_legend_handles_labels()\n",
    "sm = plt.cm.ScalarMappable(cmap='flare', norm=plt.Normalize(vmin=df['Gene Ratio'].min(), vmax=df['Gene Ratio'].max()))\n",
    "sm.set_array([])\n",
    "cbar = fig.colorbar(sm, ax=ax, shrink=0.8, pad=0.05)\n",
    "cbar.ax.tick_params(labelsize=13)\n",
    "cbar.set_label(label='Enrichment', size=14, labelpad=10)\n",
    "\n",
    "# Set x and y labels, limits, ticks, and title\n",
    "ax.set_ylabel(None)\n",
    "ax.set_xlabel(None)\n",
    "ax.set_xmargin(0.06)\n",
    "ax.set_ylim(bottom=2.2, top=-0.5)\n",
    "plt.yticks(fontsize=13)\n",
    "ax.xaxis.tick_bottom()\n",
    "plt.xticks(fontsize=13, rotation=90)\n",
    "\n",
    "plt.show()"
   ]
  }
 ],
 "metadata": {
  "kernelspec": {
   "display_name": "base",
   "language": "python",
   "name": "python3"
  },
  "language_info": {
   "codemirror_mode": {
    "name": "ipython",
    "version": 3
   },
   "file_extension": ".py",
   "mimetype": "text/x-python",
   "name": "python",
   "nbconvert_exporter": "python",
   "pygments_lexer": "ipython3",
   "version": "3.10.6"
  },
  "orig_nbformat": 4
 },
 "nbformat": 4,
 "nbformat_minor": 2
}
