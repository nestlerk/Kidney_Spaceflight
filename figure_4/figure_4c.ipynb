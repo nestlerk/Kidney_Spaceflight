{
 "cells": [
  {
   "attachments": {},
   "cell_type": "markdown",
   "metadata": {},
   "source": [
    "# **KEGG PATHWAY ENRICHMENT VISUALIZATION** (METABOLOME)"
   ]
  },
  {
   "attachments": {},
   "cell_type": "markdown",
   "metadata": {},
   "source": [
    "### Metabolome: CNSA, Inspiration4, MHU-3(L+18), MHU-3(R+2)\n",
    "#### For these plots, the following rules were applied:\n",
    "#### 1. All pathways with a p-value < 0.05 that were observed in at least two missions are presented.\n",
    "#### 2. The more missions the pathway is involved in, the higher the position in the plot.\n",
    "#### 3. The pathway with a more significant maximum p-value is higher in the plot."
   ]
  },
  {
   "cell_type": "code",
   "execution_count": null,
   "metadata": {},
   "outputs": [],
   "source": [
    "## load packages\n",
    "import pandas as pd\n",
    "import seaborn as sns\n",
    "import matplotlib.pyplot as plt"
   ]
  },
  {
   "cell_type": "code",
   "execution_count": null,
   "metadata": {},
   "outputs": [],
   "source": [
    "# read in data\n",
    "df_CNSA = pd.read_csv(\"CNSA.csv\")\n",
    "df_I4 = pd.read_csv(\"Inspiration4.csv\")\n",
    "df_MHU3_L18 = pd.read_csv(\"MHU3_L18.csv\")\n",
    "df_MHU3_R2 = pd.read_csv(\"MHU3_R2.csv\")"
   ]
  },
  {
   "cell_type": "code",
   "execution_count": null,
   "metadata": {},
   "outputs": [],
   "source": [
    "# make a list of the dataframes\n",
    "df_list = [df_CNSA, df_I4, df_MHU3_L18, df_MHU3_R2]"
   ]
  },
  {
   "cell_type": "code",
   "execution_count": null,
   "metadata": {},
   "outputs": [],
   "source": [
    "# for loop to add a column for the sample name\n",
    "for df in df_list:\n",
    "    if df is df_CNSA:\n",
    "        df['Sample'] = 'CNSA'\n",
    "    elif df is df_I4:\n",
    "        df['Sample'] = 'Inspiration4'\n",
    "    elif df is df_MHU3_L18:\n",
    "        df['Sample'] = 'MHU3(L+18)'\n",
    "    elif df is df_MHU3_R2:\n",
    "        df['Sample'] = 'MHU3(R+2)'"
   ]
  },
  {
   "cell_type": "code",
   "execution_count": null,
   "metadata": {},
   "outputs": [],
   "source": [
    "# combine all dataframes into one\n",
    "df_all = pd.concat(df_list)"
   ]
  },
  {
   "cell_type": "code",
   "execution_count": null,
   "metadata": {},
   "outputs": [],
   "source": [
    "# keep only the columns we need\n",
    "kegg = df_all[['Sample', 'Description', '#NAME?', 'Hits', 'Background']]"
   ]
  },
  {
   "cell_type": "code",
   "execution_count": null,
   "metadata": {},
   "outputs": [],
   "source": [
    "# rename the columns\n",
    "kegg.columns = ['Sample','Description', '-LogP', 'Hits', 'Background']"
   ]
  },
  {
   "cell_type": "code",
   "execution_count": null,
   "metadata": {},
   "outputs": [],
   "source": [
    "# make a new column for the gene ratio\n",
    "kegg['Gene Ratio'] = kegg['Hits'] / kegg['Background']"
   ]
  },
  {
   "cell_type": "code",
   "execution_count": null,
   "metadata": {},
   "outputs": [],
   "source": [
    "# reorder the columns\n",
    "new_kegg = kegg[['Sample', 'Description', '-LogP', 'Gene Ratio']]"
   ]
  },
  {
   "cell_type": "code",
   "execution_count": null,
   "metadata": {},
   "outputs": [],
   "source": [
    "#keep only -LogP values greater than 1.3\n",
    "new_kegg = new_kegg[new_kegg['-LogP'] > 1.3]"
   ]
  },
  {
   "cell_type": "code",
   "execution_count": null,
   "metadata": {},
   "outputs": [],
   "source": [
    "# make a new column containing the maximum -LogP value for each description across all samples\n",
    "new_kegg['Max -LogP'] = new_kegg.groupby('Description')[\"-LogP\"].transform('max')"
   ]
  },
  {
   "cell_type": "code",
   "execution_count": null,
   "metadata": {},
   "outputs": [],
   "source": [
    "# count the number of times each description appears across all samples\n",
    "new_kegg['Count'] = new_kegg.groupby('Description')['Description'].transform('count')"
   ]
  },
  {
   "cell_type": "code",
   "execution_count": null,
   "metadata": {},
   "outputs": [],
   "source": [
    "# filter for kegg pathways detected at list twice\n",
    "new_kegg = new_kegg[new_kegg['Count'] > 1]"
   ]
  },
  {
   "cell_type": "code",
   "execution_count": null,
   "metadata": {},
   "outputs": [],
   "source": [
    "# store the final dataframe as a new variable\n",
    "df = new_kegg"
   ]
  },
  {
   "cell_type": "code",
   "execution_count": null,
   "metadata": {},
   "outputs": [],
   "source": [
    "# sort by sample, max -LogP, and enrichment\n",
    "df = df.sort_values(by=['Count', 'Max -LogP', 'Gene Ratio'], ascending=[False, False, False])"
   ]
  },
  {
   "cell_type": "code",
   "execution_count": null,
   "metadata": {},
   "outputs": [],
   "source": [
    "# set the sample order in the dataframe\n",
    "sample_order = ['CNSA', 'MHU3(L+18)', 'MHU3(R+2)', 'Inspiration4']\n",
    "df['Sample'] = pd.Categorical(df['Sample'], categories=sample_order, ordered=True)"
   ]
  },
  {
   "attachments": {},
   "cell_type": "markdown",
   "metadata": {},
   "source": [
    "## Metabolome KEGG Pathway Enrichment: -Log10 p-value > 1.3 Pathways Detected at Least Twice"
   ]
  },
  {
   "cell_type": "code",
   "execution_count": null,
   "metadata": {},
   "outputs": [],
   "source": [
    "#set style\n",
    "sns.set_context(\"paper\")"
   ]
  },
  {
   "cell_type": "code",
   "execution_count": null,
   "metadata": {},
   "outputs": [],
   "source": [
    "# Create figure and axes\n",
    "fig, ax = plt.subplots(figsize=(6,5))\n",
    "sns.scatterplot(data=df, x='Sample', y='Description', size='-LogP', color=\"black\", edgecolor=\"w\", \n",
    "                hue='Gene Ratio', palette='flare', sizes=(100, 300), legend=\"brief\", ax=ax)\n",
    "# Create custom legend with -LogP\n",
    "h, l = ax.get_legend_handles_labels()\n",
    "plt.legend(h[7:15], l[7:15], title='-LogP', bbox_to_anchor=(1.2, 0.8), loc=2, fontsize=14, \n",
    "           borderaxespad=0., title_fontsize=14)\n",
    "\n",
    "# Create custom olorbar legend with Gene count\n",
    "handles, labels = ax.get_legend_handles_labels()\n",
    "sm = plt.cm.ScalarMappable(cmap='flare', norm=plt.Normalize(vmin=df['Gene Ratio'].min(), vmax=df['Gene Ratio'].max()))\n",
    "sm.set_array([])\n",
    "cbar = fig.colorbar(sm, ax=ax, shrink=0.25, pad=0.35)\n",
    "cbar.ax.tick_params(labelsize=13)\n",
    "cbar.set_label(label='Enrichment', size=14, labelpad=10)\n",
    "\n",
    "# Set x and y labels, limits, ticks, and title\n",
    "ax.set_ylabel(None)\n",
    "ax.set_xlabel(None)\n",
    "ax.set_xmargin(0.06)\n",
    "ax.set_ylim(bottom=11.5, top=-0.5)\n",
    "plt.yticks(fontsize=13)\n",
    "ax.xaxis.tick_bottom()\n",
    "ax.xaxis.set_label_position('top')\n",
    "plt.xticks(fontsize=13, rotation=90)\n",
    "\n",
    "plt.show()"
   ]
  }
 ],
 "metadata": {
  "kernelspec": {
   "display_name": "base",
   "language": "python",
   "name": "python3"
  },
  "language_info": {
   "codemirror_mode": {
    "name": "ipython",
    "version": 3
   },
   "file_extension": ".py",
   "mimetype": "text/x-python",
   "name": "python",
   "nbconvert_exporter": "python",
   "pygments_lexer": "ipython3",
   "version": "3.10.6"
  },
  "orig_nbformat": 4
 },
 "nbformat": 4,
 "nbformat_minor": 2
}
