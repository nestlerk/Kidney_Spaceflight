{
 "cells": [
  {
   "cell_type": "markdown",
   "metadata": {},
   "source": [
    "# **Kidney-specific Proteomic and Transcriptomic DEG Analysis - Categorical Heatmap**"
   ]
  },
  {
   "cell_type": "markdown",
   "metadata": {},
   "source": [
    "## All differentially expressed genes (DEGs) observed in the proteome and transcriptome kidney-specific datasets were scored using the following criteria:\n",
    "### - Each DEG was assigned a score of 1 each time it was upregulated or -1 each time it was downregulated. The resulting sum of scores for each DEG was then calculated and multiplied by the number of times the DEG was observed in the kidney-specific proteome and transcriptome datasets. This resulted in a final score for each DEG that was used to rank the DEGs in the categorical heatmaps below.\n",
    "\n",
    "### **Heatmaps**\n",
    "### The first heatmap contains the highest ranked upregulated genes in the kidney-specific proteome and transcriptome datasets, with the additional datasets (PTM and epigenome and plasma/exosomes) plotted as well. All genes with a score of 9 or higher (not equal to 12) are shown.\n",
    "### The second heatmap contains the highest ranked downregulated genes in the kidney-specific proteome and transcriptome datasets, with the additional datasets (PTM and epigenome and plasma/exosomes) plotted as well. All genes with an absolute value score of 9 or higher (not equal to 12) are shown."
   ]
  },
  {
   "cell_type": "code",
   "execution_count": null,
   "metadata": {},
   "outputs": [],
   "source": [
    "## Load packages\n",
    "import pandas as pd\n",
    "import numpy as np\n",
    "import palettable\n",
    "%matplotlib inline\n",
    "%config InlineBackend.figure_format = 'retina'\n",
    "from matplotlib import rcParams\n",
    "from comut import comut"
   ]
  },
  {
   "cell_type": "code",
   "execution_count": null,
   "metadata": {},
   "outputs": [],
   "source": [
    "# read in proteomic data\n",
    "# IP = immpostvpre\n",
    "# PP = postpostvpre\n",
    "# pl = plasma\n",
    "# ex = exosomes\n",
    "df_BNL3 = pd.read_csv('BNL3_DEG_output_genome.csv')\n",
    "df_I4_ex_IP = pd.read_csv('Inspiration4_exosomes_immpostVpre_DEG_output_genome.csv')\n",
    "df_I4_pl_IP = pd.read_csv('Inspiration4_plasma_immpostVpre_DEG_output_genome.csv')\n",
    "df_NSRL_F = pd.read_csv('NSRL22A_F_DEG_output_genome.csv')\n",
    "df_NSRL_M = pd.read_csv('NSRL22A_M_DEG_output_genome.csv')\n",
    "df_RR1 = pd.read_csv('RR1_DEG_output_genome.csv')\n",
    "df_RR3 = pd.read_csv('RR3_DEG_output_genome.csv')\n",
    "df_RR10 = pd.read_csv('RR10_DEG_output_genome.csv')\n",
    "df_RR19 = pd.read_csv('RR19_DEG_output_genome.csv')"
   ]
  },
  {
   "cell_type": "code",
   "execution_count": null,
   "metadata": {},
   "outputs": [],
   "source": [
    "# read in transcriptomic data\n",
    "df_RR1_R = pd.read_csv('RR1_RNA_DEG_output_genome.csv')\n",
    "df_RR3_R = pd.read_csv('RR3_RNA_DEG_output_genome.csv')\n",
    "df_RR7_C3_25 = pd.read_csv('RR7_RNA_C3HHeJ_25d_DEG_output_genome_02.csv')\n",
    "df_RR7_C3_75 = pd.read_csv('RR7_RNA_C3HHeJ_75d_DEG_output_genome_02.csv')\n",
    "df_RR7_C5_25 = pd.read_csv('RR7_RNA_C57BL6J_25d_DEG_output_genome_02.csv')\n",
    "df_RR7_C5_75 = pd.read_csv('RR7_RNA_C57BL6J_75d_DEG_output_genome_02.csv')\n",
    "df_RR10_R = pd.read_csv('RR10_RNA_DEG_output_genome.csv')\n",
    "df_RR23 = pd.read_csv('RR23_RNA_DEG_output_genome_adjp.csv')\n",
    "df_MHU1_MGGC = pd.read_csv('MHU1_RNA_MGvsGC_DEG_output_genome.csv')\n",
    "df_MHU3 = pd.read_csv('MHU3_RNA_DEG_output_genome.csv')\n",
    "df_JAXA_PF1 = pd.read_csv('JAXA_RNA_prevsflight1_DEG_output_genome.csv')\n",
    "df_JAXA_PF4 = pd.read_csv('JAXA_RNA_prevsflight4_DEG_output_genome.csv')"
   ]
  },
  {
   "cell_type": "code",
   "execution_count": null,
   "metadata": {},
   "outputs": [],
   "source": [
    "# read in PTM data\n",
    "df_RR10_PTM = pd.read_csv('RR10_Phos_DEG_output_genome.csv')"
   ]
  },
  {
   "cell_type": "code",
   "execution_count": null,
   "metadata": {},
   "outputs": [],
   "source": [
    "# read in epigenomic data\n",
    "df_RR1_E = pd.read_csv('RR1_Epi_DEG_output_genome.csv')\n",
    "df_RR3_E = pd.read_csv('RR3_Epi_DEG_output_genome.csv')"
   ]
  },
  {
   "cell_type": "code",
   "execution_count": null,
   "metadata": {},
   "outputs": [],
   "source": [
    "# make a list of the dataframes\n",
    "df_list_de2 = [df_BNL3, df_I4_ex_IP, df_I4_pl_IP, df_NSRL_F, df_NSRL_M, df_RR1, df_RR3, df_RR10, \n",
    "               df_RR19, df_RR1_R, df_RR3_R, df_RR7_C3_25, df_RR7_C3_75, df_RR7_C5_25, df_RR7_C5_75, \n",
    "               df_RR10_R, df_RR23, df_MHU1_MGGC, df_MHU3, df_JAXA_PF1, df_JAXA_PF4, df_RR10_PTM, \n",
    "               df_RR1_E, df_RR3_E]"
   ]
  },
  {
   "cell_type": "code",
   "execution_count": null,
   "metadata": {},
   "outputs": [],
   "source": [
    "# for loop to add a column for the sample name\n",
    "for df in df_list_de2:\n",
    "    if df is df_BNL3:\n",
    "        df['Sample'] = 'BNL3_Protein'\n",
    "    elif df is df_I4_ex_IP:\n",
    "        df['Sample'] = 'Inspiration4_exosomes_immpostVpre_Protein'\n",
    "    elif df is df_I4_pl_IP:\n",
    "        df['Sample'] = 'Inspiration4_plasma_immpostVpre_Protein'\n",
    "    elif df is df_NSRL_F:\n",
    "        df['Sample'] = 'NSRL22A_II_F_vs_I_F_Protein'\n",
    "    elif df is df_NSRL_M:\n",
    "        df['Sample'] = 'NSRL22A_II_M_vs_I_M_Protein'\n",
    "    elif df is df_RR1:\n",
    "        df['Sample'] = 'RR1_Protein'\n",
    "    elif df is df_RR3:\n",
    "        df['Sample'] = 'RR3_Protein'\n",
    "    elif df is df_RR10:\n",
    "        df['Sample'] = 'RR10_Protein'\n",
    "    elif df is df_RR19:\n",
    "        df['Sample'] = 'RR19_Protein'\n",
    "    elif df is df_RR1_R:\n",
    "        df['Sample'] = 'RR1_RNA'\n",
    "    elif df is df_RR3_R:\n",
    "        df['Sample'] = 'RR3_RNA'\n",
    "    elif df is df_RR7_C3_25:\n",
    "        df['Sample'] = 'RR7_C3HHeJ_GCvsSF_25d_RNA'\n",
    "    elif df is df_RR7_C3_75:\n",
    "        df['Sample'] = 'RR7_C3HHeJ_GCvsSF_75d_RNA'\n",
    "    elif df is df_RR7_C5_25:\n",
    "        df['Sample'] = 'RR7_C57BL6J_GCvsSF_25d_RNA'\n",
    "    elif df is df_RR7_C5_75:\n",
    "        df['Sample'] = 'RR7_C57BL6J_GCvsSF_75d_RNA'\n",
    "    elif df is df_RR10_R:\n",
    "        df['Sample'] = 'RR10_RNA'\n",
    "    elif df is df_RR23:\n",
    "        df['Sample'] = 'RR23_RNA'\n",
    "    elif df is df_MHU1_MGGC:\n",
    "        df['Sample'] = 'MHU1_MGvGC_RNA'\n",
    "    elif df is df_MHU3:\n",
    "        df['Sample'] = 'MHU3_RNA'\n",
    "    elif df is df_JAXA_PF1:\n",
    "        df['Sample'] = 'JAXA_preVflight1_RNA'\n",
    "    elif df is df_JAXA_PF4:\n",
    "        df['Sample'] = 'JAXA_preVflight4_RNA'\n",
    "    elif df is df_RR10_PTM:\n",
    "        df['Sample'] = 'RR10_Phos'\n",
    "    elif df is df_RR1_E:\n",
    "        df['Sample'] = 'RR1_Epi'\n",
    "    elif df is df_RR3_E:\n",
    "        df['Sample'] = 'RR3_Epi'"
   ]
  },
  {
   "cell_type": "code",
   "execution_count": null,
   "metadata": {},
   "outputs": [],
   "source": [
    "#multiply the logFC values by -1 for the MHU1_MGvsGC_RNA dataset\n",
    "df_MHU1_MGGC['logFC'] = df_MHU1_MGGC['logFC'] * -1"
   ]
  },
  {
   "cell_type": "code",
   "execution_count": null,
   "metadata": {},
   "outputs": [],
   "source": [
    "# combine all dataframes into one\n",
    "df_all = pd.concat(df_list_de2)"
   ]
  },
  {
   "cell_type": "code",
   "execution_count": null,
   "metadata": {},
   "outputs": [],
   "source": [
    "#make all gene names uppercase\n",
    "df_all['Gene'] = df_all['Gene'].str.upper()"
   ]
  },
  {
   "cell_type": "code",
   "execution_count": null,
   "metadata": {},
   "outputs": [],
   "source": [
    "#read in metadata\n",
    "df_meta = pd.read_csv('sample_metadata.csv')"
   ]
  },
  {
   "cell_type": "code",
   "execution_count": null,
   "metadata": {},
   "outputs": [],
   "source": [
    "#make a dictionary of the sample names and tissue types\n",
    "sample_dict = dict(zip(df_meta['Sample'], df_meta['Tissue']))"
   ]
  },
  {
   "cell_type": "code",
   "execution_count": null,
   "metadata": {},
   "outputs": [],
   "source": [
    "sample_dict_02 = dict(zip(df_meta['Sample'], df_meta['Omic']))"
   ]
  },
  {
   "cell_type": "code",
   "execution_count": null,
   "metadata": {},
   "outputs": [],
   "source": [
    "#add a column for the tissue type\n",
    "df_all['Tissue'] = df_all['Sample'].map(sample_dict)"
   ]
  },
  {
   "cell_type": "code",
   "execution_count": null,
   "metadata": {},
   "outputs": [],
   "source": [
    "#add a column for the omic type\n",
    "df_all['Omic'] = df_all['Sample'].map(sample_dict_02)"
   ]
  },
  {
   "cell_type": "code",
   "execution_count": null,
   "metadata": {},
   "outputs": [],
   "source": [
    "#reassign the dataframe variable\n",
    "df_deg = df_all"
   ]
  },
  {
   "cell_type": "code",
   "execution_count": null,
   "metadata": {},
   "outputs": [],
   "source": [
    "#keep only the proteome and transcriptome data\n",
    "df_deg = df_deg[df_deg['Omic'] != 'PTM (Phospho)']\n",
    "df_deg = df_deg[df_deg['Omic'] != 'Epigenome']"
   ]
  },
  {
   "cell_type": "code",
   "execution_count": null,
   "metadata": {},
   "outputs": [],
   "source": [
    "#keep only the kidney data\n",
    "df_kid = df_deg[df_deg['Tissue'] == 'Kidney']"
   ]
  },
  {
   "cell_type": "code",
   "execution_count": null,
   "metadata": {},
   "outputs": [],
   "source": [
    "#subset the dataframe\n",
    "df_kid_gene = df_kid[['Gene', 'logFC']]"
   ]
  },
  {
   "cell_type": "code",
   "execution_count": null,
   "metadata": {},
   "outputs": [],
   "source": [
    "#sort by gene name\n",
    "df_kid_gene = df_kid_gene.sort_values(by=['Gene'])"
   ]
  },
  {
   "cell_type": "code",
   "execution_count": null,
   "metadata": {},
   "outputs": [],
   "source": [
    "#count the number of times each gene appears\n",
    "df_kid_gene['count'] = df_kid_gene.groupby('Gene')['Gene'].transform('count')"
   ]
  },
  {
   "cell_type": "code",
   "execution_count": null,
   "metadata": {},
   "outputs": [],
   "source": [
    "#sort by count\n",
    "df_kid_gene = df_kid_gene.sort_values(by=['count'], ascending=False)"
   ]
  },
  {
   "cell_type": "code",
   "execution_count": null,
   "metadata": {},
   "outputs": [],
   "source": [
    "#determine the direction of the logFC\n",
    "df_kid_gene.loc[df_kid_gene['logFC'] > 0, 'Direction'] = 'Up'\n",
    "df_kid_gene.loc[df_kid_gene['logFC'] < 0, 'Direction'] = 'Down'"
   ]
  },
  {
   "cell_type": "code",
   "execution_count": null,
   "metadata": {},
   "outputs": [],
   "source": [
    "#make a new column that counts the number of times a gene is up\n",
    "df_kid_gene['Up'] = df_kid_gene['Direction'].str.count('Up')"
   ]
  },
  {
   "cell_type": "code",
   "execution_count": null,
   "metadata": {},
   "outputs": [],
   "source": [
    "#make a new column that counts the number of times a gene is down\n",
    "df_kid_gene['Down'] = df_kid_gene['Direction'].str.count('Down')\n",
    "\n",
    "#multiply this number by -1\n",
    "df_kid_gene['Down'] = df_kid_gene['Down'] * -1"
   ]
  },
  {
   "cell_type": "code",
   "execution_count": null,
   "metadata": {},
   "outputs": [],
   "source": [
    "#group by gene and sum the Up and Down columns\n",
    "df_kid_gene['Score'] = df_kid_gene['Up'] + df_kid_gene['Down']"
   ]
  },
  {
   "cell_type": "code",
   "execution_count": null,
   "metadata": {},
   "outputs": [],
   "source": [
    "#for each gene sum the score column\n",
    "df_kid_gene['Score_sum'] = df_kid_gene.groupby('Gene')['Score'].transform('sum')"
   ]
  },
  {
   "cell_type": "code",
   "execution_count": null,
   "metadata": {},
   "outputs": [],
   "source": [
    "#calculate the product score\n",
    "df_kid_gene['Product_score'] = df_kid_gene['count'] * df_kid_gene['Score_sum']"
   ]
  },
  {
   "cell_type": "code",
   "execution_count": null,
   "metadata": {},
   "outputs": [],
   "source": [
    "#sort by product score for upregulated genes\n",
    "df_kid_gene_up = df_kid_gene.sort_values(by=['Product_score'], ascending=False)"
   ]
  },
  {
   "cell_type": "code",
   "execution_count": null,
   "metadata": {},
   "outputs": [],
   "source": [
    "#sort by product score for downregulated genes\n",
    "df_kid_gene_down = df_kid_gene.sort_values(by=['Product_score'], ascending=True)"
   ]
  },
  {
   "cell_type": "code",
   "execution_count": null,
   "metadata": {},
   "outputs": [],
   "source": [
    "#remove duplicate gene names\n",
    "df_kid_gene_up = df_kid_gene_up.drop_duplicates(subset=['Gene'], keep='first')\n",
    "df_kid_gene_down = df_kid_gene_down.drop_duplicates(subset=['Gene'], keep='first')"
   ]
  },
  {
   "cell_type": "code",
   "execution_count": null,
   "metadata": {},
   "outputs": [],
   "source": [
    "#keep only genes with a product score equal to 9 or greater\n",
    "df_kid_gene_up = df_kid_gene_up[df_kid_gene_up['Product_score'] >= 9]\n",
    "df_kid_gene_down = df_kid_gene_down[df_kid_gene_down['Product_score'] <= -9]"
   ]
  },
  {
   "cell_type": "code",
   "execution_count": null,
   "metadata": {},
   "outputs": [],
   "source": [
    "#remove genes with a product score equal to 12\n",
    "df_kid_gene_up = df_kid_gene_up[df_kid_gene_up['Product_score'] != 12]\n",
    "df_kid_gene_down = df_kid_gene_down[df_kid_gene_down['Product_score'] != -12]"
   ]
  },
  {
   "cell_type": "code",
   "execution_count": null,
   "metadata": {},
   "outputs": [],
   "source": [
    "#store as a list\n",
    "kid_gene_up_list = df_kid_gene_up['Gene'].tolist()\n",
    "kid_gene_down_list = df_kid_gene_down['Gene'].tolist()"
   ]
  },
  {
   "cell_type": "code",
   "execution_count": null,
   "metadata": {},
   "outputs": [],
   "source": [
    "#store the unique samples as a list\n",
    "sample_list = df_all['Sample'].unique().tolist()"
   ]
  },
  {
   "cell_type": "code",
   "execution_count": null,
   "metadata": {},
   "outputs": [],
   "source": [
    "#store the unique sample names in a list\n",
    "sample_order = ['RR10_Phos', 'BNL3_Protein', 'NSRL22A_II_F_vs_I_F_Protein', 'NSRL22A_II_M_vs_I_M_Protein', 'RR10_Protein', \n",
    "                'RR1_Protein', 'RR3_Protein', 'RR19_Protein', 'Inspiration4_plasma_immpostVpre_Protein', \n",
    "                'Inspiration4_exosomes_immpostVpre_Protein', 'RR7_C3HHeJ_GCvsSF_25d_RNA', 'RR7_C57BL6J_GCvsSF_25d_RNA', \n",
    "                'RR10_RNA', 'MHU3_RNA', 'RR23_RNA', 'RR1_RNA', 'RR3_RNA', 'RR7_C3HHeJ_GCvsSF_75d_RNA', \n",
    "                'RR7_C57BL6J_GCvsSF_75d_RNA', 'MHU1_MGvGC_RNA', 'JAXA_preVflight1_RNA', 'JAXA_preVflight4_RNA', 'RR1_Epi', \n",
    "                'RR3_Epi']"
   ]
  },
  {
   "cell_type": "code",
   "execution_count": null,
   "metadata": {},
   "outputs": [],
   "source": [
    "# remove the samples that are not in the sample list\n",
    "sample_order = [x for x in sample_order if x in sample_list]"
   ]
  },
  {
   "cell_type": "code",
   "execution_count": null,
   "metadata": {},
   "outputs": [],
   "source": [
    "# keep the top 200 genes\n",
    "kid_gene_up_list_sub = kid_gene_up_list[:200]"
   ]
  },
  {
   "cell_type": "code",
   "execution_count": null,
   "metadata": {},
   "outputs": [],
   "source": [
    "# edit the dataframe to only include the top 50 genes\n",
    "df_all_sub = df_all[df_all['Gene'].isin(kid_gene_up_list_sub)]"
   ]
  },
  {
   "cell_type": "code",
   "execution_count": null,
   "metadata": {},
   "outputs": [],
   "source": [
    "#store the unique samples as a list\n",
    "sample_list = df_all_sub['Sample'].unique().tolist()"
   ]
  },
  {
   "cell_type": "code",
   "execution_count": null,
   "metadata": {},
   "outputs": [],
   "source": [
    "#store the unique sample names in a list\n",
    "sample_order = ['RR10_Phos', 'BNL3_Protein', 'NSRL22A_II_F_vs_I_F_Protein', 'NSRL22A_II_M_vs_I_M_Protein', 'RR10_Protein', \n",
    "                'RR1_Protein', 'RR3_Protein', 'RR19_Protein', 'Inspiration4_plasma_immpostVpre_Protein', \n",
    "                'Inspiration4_exosomes_immpostVpre_Protein', 'RR7_C3HHeJ_GCvsSF_25d_RNA', 'RR7_C57BL6J_GCvsSF_25d_RNA', \n",
    "                'RR10_RNA', 'MHU3_RNA', 'RR23_RNA', 'RR1_RNA', 'RR3_RNA', 'RR7_C3HHeJ_GCvsSF_75d_RNA', \n",
    "                'RR7_C57BL6J_GCvsSF_75d_RNA', 'MHU1_MGvGC_RNA', 'JAXA_preVflight1_RNA', 'JAXA_preVflight4_RNA', 'RR1_Epi', \n",
    "                'RR3_Epi']"
   ]
  },
  {
   "cell_type": "code",
   "execution_count": null,
   "metadata": {},
   "outputs": [],
   "source": [
    "# remove the samples that are not in the sample list\n",
    "sample_order = [x for x in sample_order if x in sample_list]"
   ]
  },
  {
   "cell_type": "code",
   "execution_count": null,
   "metadata": {},
   "outputs": [],
   "source": [
    "#reverse the order of the gene_order_sub list\n",
    "kid_gene_up_list_sub.reverse()"
   ]
  },
  {
   "cell_type": "code",
   "execution_count": null,
   "metadata": {},
   "outputs": [],
   "source": [
    "#read in relabeled metadata file\n",
    "df_label = pd.read_csv('sample_label_mapping.csv')"
   ]
  },
  {
   "cell_type": "code",
   "execution_count": null,
   "metadata": {},
   "outputs": [],
   "source": [
    "#remove the samples that are not in the sample list\n",
    "df_label = df_label[df_label['Sample'].isin(sample_order)]"
   ]
  },
  {
   "cell_type": "code",
   "execution_count": null,
   "metadata": {},
   "outputs": [],
   "source": [
    "#turn the label column into a list\n",
    "label_list = df_label['Label'].tolist()"
   ]
  },
  {
   "cell_type": "code",
   "execution_count": null,
   "metadata": {},
   "outputs": [],
   "source": [
    "#turn the df into a dictionary\n",
    "label_dict = df_label.set_index('Sample').T.to_dict('list')"
   ]
  },
  {
   "cell_type": "code",
   "execution_count": null,
   "metadata": {},
   "outputs": [],
   "source": [
    "#reassign the dataframe variable\n",
    "df_deg_sub = df_all_sub"
   ]
  },
  {
   "cell_type": "code",
   "execution_count": null,
   "metadata": {},
   "outputs": [],
   "source": [
    "#map the kidney up genes to the df_deg_sub\n",
    "df_deg_kid_up = df_deg_sub[df_deg_sub['Gene'].isin(kid_gene_up_list_sub)]"
   ]
  },
  {
   "cell_type": "code",
   "execution_count": null,
   "metadata": {},
   "outputs": [],
   "source": [
    "# let's reorganize the data\n",
    "df_fc = df_deg_sub[['Sample', 'Gene', 'logFC']]"
   ]
  },
  {
   "cell_type": "code",
   "execution_count": null,
   "metadata": {},
   "outputs": [],
   "source": [
    "# set the direction based on the logFC\n",
    "df_fc['Direction'] = np.where(df_deg_sub['logFC'] > 0, 'Up', np.where(df_deg_sub['logFC'] < 0, 'Down', 'No Change'))"
   ]
  },
  {
   "cell_type": "code",
   "execution_count": null,
   "metadata": {},
   "outputs": [],
   "source": [
    "#subset the df\n",
    "df_fc = df_fc[['Sample', 'Gene', 'Direction']]"
   ]
  },
  {
   "cell_type": "code",
   "execution_count": null,
   "metadata": {},
   "outputs": [],
   "source": [
    "#rename the columns to match the format of the comut package\n",
    "df_fc.columns = ['sample', 'category', 'value']"
   ]
  },
  {
   "cell_type": "code",
   "execution_count": null,
   "metadata": {},
   "outputs": [],
   "source": [
    "#count the number of times the gene is detected across all samples\n",
    "df_deg_sub['Count'] = df_deg_sub.groupby('Gene')['Gene'].transform('count')"
   ]
  },
  {
   "cell_type": "code",
   "execution_count": null,
   "metadata": {},
   "outputs": [],
   "source": [
    "#read in metadata file\n",
    "df_meta = pd.read_csv('sample_metadata.csv')"
   ]
  },
  {
   "cell_type": "code",
   "execution_count": null,
   "metadata": {},
   "outputs": [],
   "source": [
    "#keep only the samples that are in the sample list\n",
    "df_meta = df_meta[df_meta['Sample'].isin(sample_order)]"
   ]
  },
  {
   "cell_type": "code",
   "execution_count": null,
   "metadata": {},
   "outputs": [],
   "source": [
    "#order the samples in the metadata file\n",
    "df_meta['Sample'] = pd.Categorical(df_meta['Sample'], sample_order)"
   ]
  },
  {
   "cell_type": "code",
   "execution_count": null,
   "metadata": {},
   "outputs": [],
   "source": [
    "#make a new dataframe with the sample names and tissue types\n",
    "df_tis = df_meta[['Sample', 'Tissue']]\n",
    "df_tis = df_tis.melt(id_vars=['Sample'], value_vars=['Tissue'])\n",
    "df_tis.columns = ['sample', 'category', 'value']"
   ]
  },
  {
   "cell_type": "code",
   "execution_count": null,
   "metadata": {},
   "outputs": [],
   "source": [
    "#make a new dataframe with the sample names and radiation type\n",
    "df_rad = df_meta[['Sample', 'Exposure']]\n",
    "df_rad = df_rad.melt(id_vars=['Sample'], value_vars=['Exposure'])\n",
    "df_rad.columns = ['sample', 'category', 'value']"
   ]
  },
  {
   "cell_type": "code",
   "execution_count": null,
   "metadata": {},
   "outputs": [],
   "source": [
    "#make a new dataframe with the sample names and species\n",
    "df_spe = df_meta[['Sample', 'Species']]\n",
    "df_spe = df_spe.melt(id_vars=['Sample'], value_vars=['Species'])\n",
    "df_spe.columns = ['sample', 'category', 'value']"
   ]
  },
  {
   "cell_type": "code",
   "execution_count": null,
   "metadata": {},
   "outputs": [],
   "source": [
    "#make a new dataframe with the sample names and Omics\n",
    "df_dat = df_meta[['Sample', 'Omic']]\n",
    "df_dat = df_dat.melt(id_vars=['Sample'], value_vars=['Omic'])\n",
    "df_dat.columns = ['sample', 'category', 'value']"
   ]
  },
  {
   "cell_type": "code",
   "execution_count": null,
   "metadata": {},
   "outputs": [],
   "source": [
    "#set color palettes\n",
    "vivid_10 = palettable.cartocolors.qualitative.Vivid_10.mpl_colors\n",
    "balance_6 = palettable.cmocean.diverging.Balance_6.mpl_colors\n",
    "safe_10 = palettable.cartocolors.qualitative.Safe_10.mpl_colors\n",
    "vivid_10 = palettable.cartocolors.qualitative.Vivid_10.mpl_colors\n",
    "purp_7 = palettable.cartocolors.sequential.Purp_7.mpl_colormap\n",
    "tab20 = palettable.tableau.Tableau_20.mpl_colors\n",
    "color_list = palettable.colorbrewer.qualitative.Set1_9.mpl_colors"
   ]
  },
  {
   "cell_type": "code",
   "execution_count": null,
   "metadata": {},
   "outputs": [],
   "source": [
    "#set plotting parameters\n",
    "custom_rcParams = {\n",
    "    'font.family': 'Arial',\n",
    "    'font.size': 12,\n",
    "    'axes.labelsize': 18,\n",
    "    'legend.fontsize': 18,\n",
    "    'ytick.labelsize': 18,\n",
    "    'xtick.labelsize': 18,  \n",
    "}\n",
    "\n",
    "rcParams.update(custom_rcParams)"
   ]
  },
  {
   "cell_type": "code",
   "execution_count": null,
   "metadata": {},
   "outputs": [],
   "source": [
    "#assign the mappings\n",
    "\n",
    "fc_mapping = {'Up': 'Green', 'Unknown': 'lightgrey', 'Down': 'Red', 'No Change': 'Black'}\n",
    "\n",
    "tis_mapping = {'Kidney': tab20[0], 'Plasma': tab20[2], 'Exosome':tab20[5]}\n",
    "\n",
    "rad_mapping = {'simGCRsim': tab20[6] , 'GCRsim': tab20[11] , 'Spaceflight': tab20[19]}\n",
    "\n",
    "spe_mapping = {'Mouse': tab20[8], 'Human':tab20[9]}\n",
    "\n",
    "dat_mapping = {'Proteome': safe_10[1], 'Transcriptome':safe_10[2], 'PTM (Phospho)': safe_10[6], 'Epigenome': safe_10[4]}\n",
    "\n",
    "side_mapping = {'frequency': 'lightgrey'}\n",
    "side_kwargs = {'height': 0.8}\n",
    "\n",
    "category_order = kid_gene_up_list_sub"
   ]
  },
  {
   "cell_type": "markdown",
   "metadata": {},
   "source": [
    "## **HIGHEST RANKED UPREGULATED GENES FROM KIDNEY TRANSCRIPTOMIC AND PROTEOMIC DATASETS**"
   ]
  },
  {
   "cell_type": "markdown",
   "metadata": {},
   "source": [
    "## Categorical heatmap"
   ]
  },
  {
   "cell_type": "code",
   "execution_count": null,
   "metadata": {},
   "outputs": [],
   "source": [
    "#produce the comut plot\n",
    "deg_comut = comut.CoMut()\n",
    "\n",
    "deg_comut.samples = sample_order\n",
    "\n",
    "deg_comut.add_categorical_data(df_fc, mapping=fc_mapping, category_order=category_order, name = 'Log2 Fold Change Direction')\n",
    "\n",
    "deg_comut.add_categorical_data(df_tis, mapping=tis_mapping, name = 'Tissue')\n",
    "\n",
    "deg_comut.add_categorical_data(df_rad, mapping=rad_mapping, name = 'Exposure')\n",
    "\n",
    "deg_comut.add_categorical_data(df_spe, mapping=spe_mapping, name = 'Species')\n",
    "\n",
    "deg_comut.add_categorical_data(df_dat, mapping=dat_mapping, name = 'Omic')\n",
    "\n",
    "deg_comut.plot_comut(figsize = (17, 40), x_padding = 0.02, y_padding = 0.02, hspace = 0.01,\n",
    "                    wspace = 0.01, widths = (5, 0.5))\n",
    "\n",
    "deg_comut.axes['Omic'].set_xticklabels(label_list)\n",
    "\n",
    "deg_comut.add_unified_legend(bbox_to_anchor = (1.1,1.0), frameon = True)"
   ]
  },
  {
   "cell_type": "markdown",
   "metadata": {},
   "source": [
    "----------------"
   ]
  },
  {
   "cell_type": "markdown",
   "metadata": {},
   "source": [
    "### Now we will repeat this for the downregulated genes."
   ]
  },
  {
   "cell_type": "code",
   "execution_count": null,
   "metadata": {},
   "outputs": [],
   "source": [
    "#store the unique samples as a list\n",
    "sample_list = df_all['Sample'].unique().tolist()"
   ]
  },
  {
   "cell_type": "code",
   "execution_count": null,
   "metadata": {},
   "outputs": [],
   "source": [
    "#store the unique sample names in a list\n",
    "sample_order = ['RR10_Phos', 'BNL3_Protein', 'NSRL22A_II_F_vs_I_F_Protein', 'NSRL22A_II_M_vs_I_M_Protein', 'RR10_Protein', \n",
    "                'RR1_Protein', 'RR3_Protein', 'RR19_Protein', 'Inspiration4_plasma_immpostVpre_Protein', \n",
    "                'Inspiration4_exosomes_immpostVpre_Protein', 'RR7_C3HHeJ_GCvsSF_25d_RNA', 'RR7_C57BL6J_GCvsSF_25d_RNA', \n",
    "                'RR10_RNA', 'MHU3_RNA', 'RR23_RNA', 'RR1_RNA', 'RR3_RNA', 'RR7_C3HHeJ_GCvsSF_75d_RNA', \n",
    "                'RR7_C57BL6J_GCvsSF_75d_RNA', 'MHU1_MGvGC_RNA', 'JAXA_preVflight1_RNA', 'JAXA_preVflight4_RNA', 'RR1_Epi', \n",
    "                'RR3_Epi']"
   ]
  },
  {
   "cell_type": "code",
   "execution_count": null,
   "metadata": {},
   "outputs": [],
   "source": [
    "# remove the samples that are not in the sample list\n",
    "sample_order = [x for x in sample_order if x in sample_list]"
   ]
  },
  {
   "cell_type": "code",
   "execution_count": null,
   "metadata": {},
   "outputs": [],
   "source": [
    "# keep the top 200 genes\n",
    "kid_gene_down_list_sub = kid_gene_down_list[:200]"
   ]
  },
  {
   "cell_type": "code",
   "execution_count": null,
   "metadata": {},
   "outputs": [],
   "source": [
    "# edit the dataframe to only include the top 50 genes\n",
    "df_all_sub = df_all[df_all['Gene'].isin(kid_gene_down_list_sub)]"
   ]
  },
  {
   "cell_type": "code",
   "execution_count": null,
   "metadata": {},
   "outputs": [],
   "source": [
    "#what are the unique sample names\n",
    "sample_list = df_all_sub['Sample'].unique().tolist()"
   ]
  },
  {
   "cell_type": "code",
   "execution_count": null,
   "metadata": {},
   "outputs": [],
   "source": [
    "#store the unique sample names in a list\n",
    "sample_order = ['RR10_Phos', 'BNL3_Protein', 'NSRL22A_II_F_vs_I_F_Protein', 'NSRL22A_II_M_vs_I_M_Protein', 'RR10_Protein', \n",
    "                'RR1_Protein', 'RR3_Protein', 'RR19_Protein', 'Inspiration4_plasma_immpostVpre_Protein', \n",
    "                'Inspiration4_exosomes_immpostVpre_Protein', 'RR7_C3HHeJ_GCvsSF_25d_RNA', 'RR7_C57BL6J_GCvsSF_25d_RNA', \n",
    "                'RR10_RNA', 'MHU3_RNA', 'RR23_RNA', 'RR1_RNA', 'RR3_RNA', 'RR7_C3HHeJ_GCvsSF_75d_RNA', \n",
    "                'RR7_C57BL6J_GCvsSF_75d_RNA', 'MHU1_MGvGC_RNA', 'JAXA_preVflight1_RNA', 'JAXA_preVflight4_RNA', 'RR1_Epi', \n",
    "                'RR3_Epi']"
   ]
  },
  {
   "cell_type": "code",
   "execution_count": null,
   "metadata": {},
   "outputs": [],
   "source": [
    "# remove the samples that are not in the sample list\n",
    "sample_order = [x for x in sample_order if x in sample_list]"
   ]
  },
  {
   "cell_type": "code",
   "execution_count": null,
   "metadata": {},
   "outputs": [],
   "source": [
    "#reverse the order of the gene_order_sub list\n",
    "kid_gene_down_list_sub.reverse()"
   ]
  },
  {
   "cell_type": "code",
   "execution_count": null,
   "metadata": {},
   "outputs": [],
   "source": [
    "#read in relabeled metadata file\n",
    "df_label = pd.read_csv('sample_label_mapping.csv')"
   ]
  },
  {
   "cell_type": "code",
   "execution_count": null,
   "metadata": {},
   "outputs": [],
   "source": [
    "#remove the samples that are not in the sample list\n",
    "df_label = df_label[df_label['Sample'].isin(sample_order)]"
   ]
  },
  {
   "cell_type": "code",
   "execution_count": null,
   "metadata": {},
   "outputs": [],
   "source": [
    "#turn the label column into a list\n",
    "label_list = df_label['Label'].tolist()"
   ]
  },
  {
   "cell_type": "code",
   "execution_count": null,
   "metadata": {},
   "outputs": [],
   "source": [
    "#turn the df into a dictionary\n",
    "label_dict = df_label.set_index('Sample').T.to_dict('list')"
   ]
  },
  {
   "cell_type": "code",
   "execution_count": null,
   "metadata": {},
   "outputs": [],
   "source": [
    "# reassign the dataframe variable\n",
    "df_deg_sub = df_all_sub"
   ]
  },
  {
   "cell_type": "code",
   "execution_count": null,
   "metadata": {},
   "outputs": [],
   "source": [
    "# let's reorganize the data\n",
    "df_fc = df_deg_sub[['Sample', 'Gene', 'logFC']]"
   ]
  },
  {
   "cell_type": "code",
   "execution_count": null,
   "metadata": {},
   "outputs": [],
   "source": [
    "# assign the directions based on the logFC\n",
    "df_fc['Direction'] = np.where(df_deg_sub['logFC'] > 0, 'Up', np.where(df_deg_sub['logFC'] < 0, 'Down', 'No Change'))"
   ]
  },
  {
   "cell_type": "code",
   "execution_count": null,
   "metadata": {},
   "outputs": [],
   "source": [
    "#subset the dataframe\n",
    "df_fc = df_fc[['Sample', 'Gene', 'Direction']]"
   ]
  },
  {
   "cell_type": "code",
   "execution_count": null,
   "metadata": {},
   "outputs": [],
   "source": [
    "#rename the columns to match the format of the comut package\n",
    "df_fc.columns = ['sample', 'category', 'value']"
   ]
  },
  {
   "cell_type": "code",
   "execution_count": null,
   "metadata": {},
   "outputs": [],
   "source": [
    "#count the number of times the gene is detected across all samples\n",
    "df_deg_sub['Count'] = df_deg_sub.groupby('Gene')['Gene'].transform('count')"
   ]
  },
  {
   "cell_type": "code",
   "execution_count": null,
   "metadata": {},
   "outputs": [],
   "source": [
    "#read in metadata file\n",
    "df_meta = pd.read_csv('sample_metadata.csv')"
   ]
  },
  {
   "cell_type": "code",
   "execution_count": null,
   "metadata": {},
   "outputs": [],
   "source": [
    "#keep only the samples that are in the sample list\n",
    "df_meta = df_meta[df_meta['Sample'].isin(sample_order)]"
   ]
  },
  {
   "cell_type": "code",
   "execution_count": null,
   "metadata": {},
   "outputs": [],
   "source": [
    "#order the samples in the metadata file\n",
    "df_meta['Sample'] = pd.Categorical(df_meta['Sample'], sample_order)"
   ]
  },
  {
   "cell_type": "code",
   "execution_count": null,
   "metadata": {},
   "outputs": [],
   "source": [
    "#make a new dataframe with the sample names and tissue types\n",
    "df_tis = df_meta[['Sample', 'Tissue']]\n",
    "df_tis = df_tis.melt(id_vars=['Sample'], value_vars=['Tissue'])\n",
    "df_tis.columns = ['sample', 'category', 'value']"
   ]
  },
  {
   "cell_type": "code",
   "execution_count": null,
   "metadata": {},
   "outputs": [],
   "source": [
    "#make a new dataframe with the sample names and Exposure\n",
    "df_rad = df_meta[['Sample', 'Exposure']]\n",
    "df_rad = df_rad.melt(id_vars=['Sample'], value_vars=['Exposure'])\n",
    "df_rad.columns = ['sample', 'category', 'value']"
   ]
  },
  {
   "cell_type": "code",
   "execution_count": null,
   "metadata": {},
   "outputs": [],
   "source": [
    "#make a new dataframe with the sample names and species\n",
    "df_spe = df_meta[['Sample', 'Species']]\n",
    "df_spe = df_spe.melt(id_vars=['Sample'], value_vars=['Species'])\n",
    "df_spe.columns = ['sample', 'category', 'value']"
   ]
  },
  {
   "cell_type": "code",
   "execution_count": null,
   "metadata": {},
   "outputs": [],
   "source": [
    "#make a new dataframe with the sample names and Omics\n",
    "df_dat = df_meta[['Sample', 'Omic']]\n",
    "df_dat = df_dat.melt(id_vars=['Sample'], value_vars=['Omic'])\n",
    "df_dat.columns = ['sample', 'category', 'value']"
   ]
  },
  {
   "cell_type": "code",
   "execution_count": null,
   "metadata": {},
   "outputs": [],
   "source": [
    "#assign the mappings\n",
    "\n",
    "fc_mapping = {'Up': 'Green', 'Unknown': 'lightgrey', 'Down': 'Red', 'No Change': 'Black'}\n",
    "\n",
    "tis_mapping = {'Kidney': tab20[0], 'Plasma': tab20[2], 'Exosome':tab20[5]}\n",
    "\n",
    "rad_mapping = {'simGCRsim': tab20[6] , 'GCRsim': tab20[11] , 'Spaceflight': tab20[19]}\n",
    "\n",
    "spe_mapping = {'Mouse': tab20[8], 'Human':tab20[9]}\n",
    "\n",
    "dat_mapping = {'Proteome': safe_10[1], 'Transcriptome':safe_10[2], 'PTM (Phospho)': safe_10[6], 'Epigenome': safe_10[4]}\n",
    "\n",
    "side_mapping = {'frequency': 'lightgrey'}\n",
    "side_kwargs = {'height': 0.8}\n",
    "\n",
    "category_order = kid_gene_down_list_sub"
   ]
  },
  {
   "cell_type": "markdown",
   "metadata": {},
   "source": [
    "## **HIGHEST RANKED DOWNREGULATED GENES FROM KIDNEY TRANSCRIPTOMIC AND PROTEOMIC DATASETS**"
   ]
  },
  {
   "cell_type": "markdown",
   "metadata": {},
   "source": [
    "## Categorical heatmap"
   ]
  },
  {
   "cell_type": "code",
   "execution_count": null,
   "metadata": {},
   "outputs": [],
   "source": [
    "deg_comut = comut.CoMut()\n",
    "\n",
    "deg_comut.samples = sample_order\n",
    "\n",
    "deg_comut.add_categorical_data(df_fc, mapping=fc_mapping, category_order=category_order, name = 'Log2 Fold Change Direction')\n",
    "\n",
    "deg_comut.add_categorical_data(df_tis, mapping=tis_mapping, name = 'Tissue')\n",
    "\n",
    "deg_comut.add_categorical_data(df_rad, mapping=rad_mapping, name = 'Exposure')\n",
    "\n",
    "deg_comut.add_categorical_data(df_spe, mapping=spe_mapping, name = 'Species')\n",
    "\n",
    "deg_comut.add_categorical_data(df_dat, mapping=dat_mapping, name = 'Omic')\n",
    "\n",
    "deg_comut.plot_comut(figsize = (17, 60), x_padding = 0.02, y_padding = 0.02, hspace = 0.01,\n",
    "                    wspace = 0.01, widths = (5, 0.5))\n",
    "\n",
    "deg_comut.axes['Omic'].set_xticklabels(label_list)\n",
    "\n",
    "deg_comut.add_unified_legend(bbox_to_anchor = (1.1,1.0), frameon = True)"
   ]
  }
 ],
 "metadata": {
  "kernelspec": {
   "display_name": "base",
   "language": "python",
   "name": "python3"
  },
  "language_info": {
   "codemirror_mode": {
    "name": "ipython",
    "version": 3
   },
   "file_extension": ".py",
   "mimetype": "text/x-python",
   "name": "python",
   "nbconvert_exporter": "python",
   "pygments_lexer": "ipython3",
   "version": "3.10.6"
  },
  "orig_nbformat": 4
 },
 "nbformat": 4,
 "nbformat_minor": 2
}
