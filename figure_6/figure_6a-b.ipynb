{
 "cells": [
  {
   "cell_type": "markdown",
   "metadata": {},
   "source": [
    "# **GO AND KEGG PATHWAY ENRICHMENT VISUALIZATION** (Multi-omic)"
   ]
  },
  {
   "cell_type": "markdown",
   "metadata": {},
   "source": [
    "### Proteome: BNL3, NSRL22A, RR1, RR3, RR10, RR19, I4 plasma, I4 exosomes (enrichment background = genome)\n",
    "### Transcriptome: RR1, RR3, RR7, RR10, RR23, MHU1, MHU3, and JAXA (enrichment background = genome)\n",
    "### PTM: RR10 (enrichment background = genome)\n",
    "### Epigenome: RR1, RR3 (enrichment background = genome)\n",
    "#### For these plots, the following rules were applied:\n",
    "#### 1. Pathways that only appeared in one mission were removed. \n",
    "#### 2. The more missions the pathway is involved in, the higher the position in the plot.\n",
    "#### 3. The pathway with a more significant maximum p-value is higher in the plot.\n",
    "#### 4. The larger the gene count or the greater the gene ratio in the pathway, the higher the position in the plot."
   ]
  },
  {
   "cell_type": "markdown",
   "metadata": {},
   "source": [
    "### We will start with the visualization the enriched GO terms"
   ]
  },
  {
   "cell_type": "code",
   "execution_count": null,
   "metadata": {},
   "outputs": [],
   "source": [
    "## Load packages\n",
    "import pandas as pd\n",
    "import seaborn as sns\n",
    "import numpy as np\n",
    "import matplotlib.pyplot as plt\n",
    "import warnings\n",
    "warnings.filterwarnings('ignore')"
   ]
  },
  {
   "cell_type": "code",
   "execution_count": null,
   "metadata": {},
   "outputs": [],
   "source": [
    "# read in proteomic data\n",
    "# IP = immpostvpre\n",
    "# PP = postpostvpre\n",
    "# pl = plasma\n",
    "# ex = exosomes\n",
    "df_BNL3 = pd.read_csv('BNL3_DEG_significant_list_GO_analysis.csv')\n",
    "df_I4_ex_IP = pd.read_csv('Inspiration4_exosomes_immpostVpre_DEG_significant_list_GO_analysis.csv')\n",
    "df_I4_pl_IP = pd.read_csv('Inspiration4_plasma_immpostVpre_DEG_significant_list_GO_analysis.csv')\n",
    "df_NSRL_F = pd.read_csv('NSRL22A_F_DEG_significant_list_GO_analysis.csv')\n",
    "df_NSRL_M = pd.read_csv('NSRL22A_M_DEG_significant_list_GO_analysis.csv')\n",
    "df_RR1 = pd.read_csv('RR1_DEG_significant_list_GO_analysis.csv')\n",
    "df_RR3 = pd.read_csv('RR3_DEG_significant_list_GO_analysis.csv')\n",
    "df_RR10 = pd.read_csv('RR10_DEG_significant_list_GO_analysis.csv')\n",
    "df_RR19 = pd.read_csv('RR19_DEG_significant_list_GO_analysis.csv')"
   ]
  },
  {
   "cell_type": "code",
   "execution_count": null,
   "metadata": {},
   "outputs": [],
   "source": [
    "# read in transcriptomic data\n",
    "df_RR1_R = pd.read_csv('RR1_RNA_DEG_significant_list_GO_analysis.csv')\n",
    "df_RR3_R = pd.read_csv('RR3_RNA_DEG_significant_list_GO_analysis.csv')\n",
    "df_RR7_C3_25 = pd.read_csv('RR7_RNA_C3HHeJ_25d_DEG_significant_list_02_GO_analysis.csv')\n",
    "df_RR7_C3_75 = pd.read_csv('RR7_RNA_C3HHeJ_75d_DEG_significant_list_02_GO_analysis.csv')\n",
    "df_RR7_C5_25 = pd.read_csv('RR7_RNA_C57BL6J_25d_DEG_significant_list_02_GO_analysis.csv')\n",
    "df_RR7_C5_75 = pd.read_csv('RR7_RNA_C57BL6J_75d_DEG_significant_list_02_GO_analysis.csv')\n",
    "df_RR10_R = pd.read_csv('RR10_RNA_DEG_significant_list_GO_analysis.csv')\n",
    "df_RR23 = pd.read_csv('RR23_RNA_DEG_significant_list_adjp_GO_analysis.csv')\n",
    "df_MHU1_MGGC = pd.read_csv('MHU1_RNA_MGvsGC_DEG_significant_list_GO_analysis.csv')\n",
    "df_MHU3 = pd.read_csv('MHU3_RNA_DEG_significant_list_GO_analysis.csv')\n",
    "df_JAXA_PF1 = pd.read_csv('JAXA_RNA_prevsflight1_DEG_significant_list_GO_analysis.csv')\n",
    "df_JAXA_PF4 = pd.read_csv('JAXA_RNA_prevsflight4_DEG_significant_list_GO_analysis.csv')"
   ]
  },
  {
   "cell_type": "code",
   "execution_count": null,
   "metadata": {},
   "outputs": [],
   "source": [
    "# read in PTM data\n",
    "df_RR10_PTM = pd.read_csv('RR10_Phos_DEG_significant_list_GO_analysis.csv')"
   ]
  },
  {
   "cell_type": "code",
   "execution_count": null,
   "metadata": {},
   "outputs": [],
   "source": [
    "# read in epigenomic data\n",
    "df_RR1_E = pd.read_csv('RR1_Epi_DEG_significant_list_GO_analysis.csv')\n",
    "df_RR3_E = pd.read_csv('RR3_Epi_DEG_significant_list_GO_analysis.csv')"
   ]
  },
  {
   "cell_type": "code",
   "execution_count": null,
   "metadata": {},
   "outputs": [],
   "source": [
    "# make a list of the dataframes\n",
    "df_list = [df_BNL3, df_I4_ex_IP, df_I4_pl_IP, df_NSRL_F, df_NSRL_M, df_RR1, df_RR3, df_RR10, \n",
    "           df_RR19, df_RR1_R, df_RR3_R, df_RR7_C3_25, df_RR7_C3_75, df_RR7_C5_25, df_RR7_C5_75, \n",
    "           df_RR10_R, df_RR23, df_MHU1_MGGC, df_MHU3, df_JAXA_PF1, df_JAXA_PF4, df_RR10_PTM, \n",
    "           df_RR1_E, df_RR3_E]"
   ]
  },
  {
   "cell_type": "code",
   "execution_count": null,
   "metadata": {},
   "outputs": [],
   "source": [
    "# for loop to add a column for the sample name\n",
    "for df in df_list:\n",
    "    if df is df_BNL3:\n",
    "        df['Sample'] = 'BNL3_Protein'\n",
    "    elif df is df_I4_ex_IP:\n",
    "        df['Sample'] = 'Inspiration4_exosomes_immpostVpre_Protein'\n",
    "    elif df is df_I4_pl_IP:\n",
    "        df['Sample'] = 'Inspiration4_plasma_immpostVpre_Protein'\n",
    "    elif df is df_NSRL_F:\n",
    "        df['Sample'] = 'NSRL22A_II_F_vs_I_F_Protein'\n",
    "    elif df is df_NSRL_M:\n",
    "        df['Sample'] = 'NSRL22A_II_M_vs_I_M_Protein'\n",
    "    elif df is df_RR1:\n",
    "        df['Sample'] = 'RR1_Protein'\n",
    "    elif df is df_RR3:\n",
    "        df['Sample'] = 'RR3_Protein'\n",
    "    elif df is df_RR10:\n",
    "        df['Sample'] = 'RR10_Protein'\n",
    "    elif df is df_RR19:\n",
    "        df['Sample'] = 'RR19_Protein'\n",
    "    elif df is df_RR1_R:\n",
    "        df['Sample'] = 'RR1_RNA'\n",
    "    elif df is df_RR3_R:\n",
    "        df['Sample'] = 'RR3_RNA'\n",
    "    elif df is df_RR7_C3_25:\n",
    "        df['Sample'] = 'RR7_C3HHeJ_GCvsSF_25d_RNA'\n",
    "    elif df is df_RR7_C3_75:\n",
    "        df['Sample'] = 'RR7_C3HHeJ_GCvsSF_75d_RNA'\n",
    "    elif df is df_RR7_C5_25:\n",
    "        df['Sample'] = 'RR7_C57BL6J_GCvsSF_25d_RNA'\n",
    "    elif df is df_RR7_C5_75:\n",
    "        df['Sample'] = 'RR7_C57BL6J_GCvsSF_75d_RNA'\n",
    "    elif df is df_RR10_R:\n",
    "        df['Sample'] = 'RR10_RNA'\n",
    "    elif df is df_RR23:\n",
    "        df['Sample'] = 'RR23_RNA'\n",
    "    elif df is df_MHU1_MGGC:\n",
    "        df['Sample'] = 'MHU1_MGvGC_RNA'\n",
    "    elif df is df_MHU3:\n",
    "        df['Sample'] = 'MHU3_RNA'\n",
    "    elif df is df_JAXA_PF1:\n",
    "        df['Sample'] = 'JAXA_preVflight1_RNA'\n",
    "    elif df is df_JAXA_PF4:\n",
    "        df['Sample'] = 'JAXA_preVflight4_RNA'\n",
    "    elif df is df_RR10_PTM:\n",
    "        df['Sample'] = 'RR10_PTM'\n",
    "    elif df is df_RR1_E:\n",
    "        df['Sample'] = 'RR1_Epi'\n",
    "    elif df is df_RR3_E:\n",
    "        df['Sample'] = 'RR3_Epi'"
   ]
  },
  {
   "cell_type": "code",
   "execution_count": null,
   "metadata": {},
   "outputs": [],
   "source": [
    "# combine all dataframes into one\n",
    "df_all = pd.concat(df_list)"
   ]
  },
  {
   "cell_type": "code",
   "execution_count": null,
   "metadata": {},
   "outputs": [],
   "source": [
    "# keep only the columns we need\n",
    "go_df = df_all[['ONTOLOGY','Sample', 'ID', 'Description', 'pvalue', 'GeneRatio', 'Count']]"
   ]
  },
  {
   "cell_type": "code",
   "execution_count": null,
   "metadata": {},
   "outputs": [],
   "source": [
    "# drop the GO column\n",
    "go_df = go_df.drop(columns = ['ID'])"
   ]
  },
  {
   "cell_type": "code",
   "execution_count": null,
   "metadata": {},
   "outputs": [],
   "source": [
    "#calculate the log10 of the pvalue\n",
    "go_df['LogP'] = np.log10(go_df['pvalue'])"
   ]
  },
  {
   "cell_type": "code",
   "execution_count": null,
   "metadata": {},
   "outputs": [],
   "source": [
    "# make LogP values negative\n",
    "go_df['-LogP'] = go_df['LogP'] * -1"
   ]
  },
  {
   "cell_type": "code",
   "execution_count": null,
   "metadata": {},
   "outputs": [],
   "source": [
    "# drop the LogP column\n",
    "go_df = go_df.drop(columns = ['LogP'])"
   ]
  },
  {
   "cell_type": "code",
   "execution_count": null,
   "metadata": {},
   "outputs": [],
   "source": [
    "#separate the GeneRatio column into two columns\n",
    "go_df[['GeneRatio1', 'GeneRatio2']] = go_df['GeneRatio'].str.split('/', expand = True)"
   ]
  },
  {
   "cell_type": "code",
   "execution_count": null,
   "metadata": {},
   "outputs": [],
   "source": [
    "#calculate the gene ratio\n",
    "go_df['Gene Ratio'] = go_df['GeneRatio1'].astype(int) / go_df['GeneRatio2'].astype(int)"
   ]
  },
  {
   "cell_type": "code",
   "execution_count": null,
   "metadata": {},
   "outputs": [],
   "source": [
    "# drop the %InGO column\n",
    "go_df = go_df.drop(columns = ['pvalue','GeneRatio', 'GeneRatio1', 'GeneRatio2'])"
   ]
  },
  {
   "cell_type": "code",
   "execution_count": null,
   "metadata": {},
   "outputs": [],
   "source": [
    "# rename the #GeneInGOAndHitList column\n",
    "go_df = go_df.rename(columns = {'Count': 'Gene Count'})"
   ]
  },
  {
   "cell_type": "code",
   "execution_count": null,
   "metadata": {},
   "outputs": [],
   "source": [
    "#separate the df based on ontology\n",
    "go_df_BP = go_df[go_df['ONTOLOGY'] == 'BP']"
   ]
  },
  {
   "cell_type": "code",
   "execution_count": null,
   "metadata": {},
   "outputs": [],
   "source": [
    "# reorder the columns\n",
    "new_go_df = go_df_BP[['Sample', 'Description', 'Gene Count', 'Gene Ratio', '-LogP']]"
   ]
  },
  {
   "cell_type": "code",
   "execution_count": null,
   "metadata": {},
   "outputs": [],
   "source": [
    "# make a new column containing the maximum -LogP value for each description across all samples\n",
    "new_go_df['Max -LogP'] = new_go_df.groupby('Description')[\"-LogP\"].transform('max')"
   ]
  },
  {
   "cell_type": "code",
   "execution_count": null,
   "metadata": {},
   "outputs": [],
   "source": [
    "# count the number of times each description appears across all samples\n",
    "new_go_df['Count'] = new_go_df.groupby('Description')['Description'].transform('count')"
   ]
  },
  {
   "cell_type": "code",
   "execution_count": null,
   "metadata": {},
   "outputs": [],
   "source": [
    "# sort by sample and gene count\n",
    "df = new_go_df"
   ]
  },
  {
   "cell_type": "code",
   "execution_count": null,
   "metadata": {},
   "outputs": [],
   "source": [
    "#remove descriptions that appear in only one sample\n",
    "df = df[df['Count'] > 1]"
   ]
  },
  {
   "cell_type": "code",
   "execution_count": null,
   "metadata": {},
   "outputs": [],
   "source": [
    "#read in go list\n",
    "go_list = pd.read_csv('go_list.csv')"
   ]
  },
  {
   "cell_type": "code",
   "execution_count": null,
   "metadata": {},
   "outputs": [],
   "source": [
    "#turn go list into a list\n",
    "go_list = go_list['Description'].tolist()"
   ]
  },
  {
   "cell_type": "code",
   "execution_count": null,
   "metadata": {},
   "outputs": [],
   "source": [
    "#match go list to descriptions in df\n",
    "df = df[df['Description'].isin(go_list)]"
   ]
  },
  {
   "cell_type": "code",
   "execution_count": null,
   "metadata": {},
   "outputs": [],
   "source": [
    "#sort the dataframe according the the sample order list\n",
    "sample_order = ['RR10_PTM', 'BNL3_Protein', 'NSRL22A_II_F_vs_I_F_Protein', 'NSRL22A_II_M_vs_I_M_Protein', 'RR10_Protein', \n",
    "                'RR1_Protein', 'RR3_Protein', 'RR19_Protein', 'Inspiration4_plasma_immpostVpre_Protein', \n",
    "                'Inspiration4_exosomes_immpostVpre_Protein', 'RR7_C3HHeJ_GCvsSF_25d_RNA', 'RR7_C57BL6J_GCvsSF_25d_RNA', \n",
    "                'RR10_RNA', 'MHU3_RNA', 'RR23_RNA', 'RR1_RNA', 'RR3_RNA', 'RR7_C3HHeJ_GCvsSF_75d_RNA', \n",
    "                'RR7_C57BL6J_GCvsSF_75d_RNA', 'MHU1_MGvGC_RNA', 'JAXA_preVflight1_RNA', 'JAXA_preVflight4_RNA', 'RR1_Epi', \n",
    "                'RR3_Epi']\n",
    "df['Sample'] = pd.Categorical(df['Sample'], categories=sample_order, ordered=True)"
   ]
  },
  {
   "cell_type": "code",
   "execution_count": null,
   "metadata": {},
   "outputs": [],
   "source": [
    "# sort by sample and gene count\n",
    "df = df.sort_values(by=['Count', 'Max -LogP', 'Gene Ratio'], ascending=[False, False, False])"
   ]
  },
  {
   "attachments": {},
   "cell_type": "markdown",
   "metadata": {},
   "source": [
    "## GO Term Enrichment - Biological Process"
   ]
  },
  {
   "attachments": {},
   "cell_type": "markdown",
   "metadata": {},
   "source": [
    "### Generate the plot"
   ]
  },
  {
   "cell_type": "code",
   "execution_count": null,
   "metadata": {},
   "outputs": [],
   "source": [
    "#set the style\n",
    "sns.set_context(\"paper\")"
   ]
  },
  {
   "cell_type": "code",
   "execution_count": null,
   "metadata": {},
   "outputs": [],
   "source": [
    "# Create figure and axes\n",
    "fig, ax = plt.subplots(figsize=(12,6))\n",
    "sns.scatterplot(data=df, x='Sample', y='Description', size='-LogP', edgecolor=\"w\", hue='Gene Ratio', \n",
    "                sizes=(100, 300), palette='flare', legend=\"brief\", ax=ax, hue_norm= (0.007, 0.1))\n",
    "# Create custom legend with -LogP\n",
    "h, l = ax.get_legend_handles_labels()\n",
    "plt.legend(h[7:15], l[7:15], title='-LogP', bbox_to_anchor=(1.2, 0.8), loc=2, fontsize=14, \n",
    "           borderaxespad=0., title_fontsize=14)\n",
    "# Create custom olorbar legend with gene ratio\n",
    "handles, labels = ax.get_legend_handles_labels()\n",
    "sm = plt.cm.ScalarMappable(cmap='flare', norm=plt.Normalize(vmin=0.007, vmax=0.1))\n",
    "sm.set_array([])\n",
    "cbar = fig.colorbar(sm, ax=ax, shrink=0.8, pad=0.3)\n",
    "cbar.ax.tick_params(labelsize=13)\n",
    "cbar.set_label(label='Enrichment', size=14, labelpad=10)\n",
    "#change the labels on the colorbar\n",
    "cbar.ax.set_yticklabels(['0.02','0.02', '0.04', '0.06', '0.08', '>0.1'], fontsize=13)\n",
    "\n",
    "# Set x and y labels, limits, ticks, and title\n",
    "ax.set_ylabel(None)\n",
    "ax.set_xlabel(None)\n",
    "ax.set_xmargin(0.06)\n",
    "ax.set_ylim(bottom=16.5, top=-0.5)\n",
    "plt.yticks(fontsize=13)\n",
    "ax.xaxis.tick_bottom()\n",
    "ax.xaxis.set_label_position('bottom')\n",
    "plt.xticks(fontsize=13, rotation=90)\n",
    "plt.show()"
   ]
  },
  {
   "cell_type": "markdown",
   "metadata": {},
   "source": [
    "-------------------"
   ]
  },
  {
   "cell_type": "markdown",
   "metadata": {},
   "source": [
    "### Next we will generate the KEGG pathway enrichment plot."
   ]
  },
  {
   "cell_type": "code",
   "execution_count": null,
   "metadata": {},
   "outputs": [],
   "source": [
    "# read in proteomic data\n",
    "# IP = immpostvpre\n",
    "# PP = postpostvpre\n",
    "# pl = plasma\n",
    "# ex = exosomes\n",
    "df_BNL3 = pd.read_csv('BNL3_Kegg_output_genome.csv')\n",
    "df_I4_ex_IP = pd.read_csv('Inspiration4_exosomes_immpostVpre_Kegg_output_genome.csv')\n",
    "df_I4_pl_IP = pd.read_csv('Inspiration4_plasma_immpostVpre_Kegg_output_genome.csv')\n",
    "df_NSRL_F = pd.read_csv('NSRL22A_II_F_vs_I_F_no_imput_Kegg_output_genome.csv')\n",
    "df_NSRL_M = pd.read_csv('NSRL22A_II_M_vs_I_M_no_imput_Kegg_output_genome.csv')\n",
    "df_RR1 = pd.read_csv('RR1_Kegg_output_genome.csv')\n",
    "df_RR3 = pd.read_csv('RR3_Kegg_output_genome.csv')\n",
    "df_RR10 = pd.read_csv('RR10_Kegg_output_genome.csv')\n",
    "df_RR19 = pd.read_csv('RR19_Kegg_output_genome.csv')"
   ]
  },
  {
   "cell_type": "code",
   "execution_count": null,
   "metadata": {},
   "outputs": [],
   "source": [
    "# read in transcriptomic data\n",
    "df_RR1_R = pd.read_csv('RR1_RNA_Kegg_output_genome.csv')\n",
    "df_RR3_R = pd.read_csv('RR3_RNA_Kegg_output_genome.csv')\n",
    "df_RR7_C3_25 = pd.read_csv('RR7_RNA_C3HHeJ_GCvsSF_25d_Kegg_output_genome.csv')\n",
    "df_RR7_C3_75 = pd.read_csv('RR7_RNA_C3HHeJ_GCvsSF_75d_Kegg_output_genome.csv')\n",
    "df_RR7_C5_25 = pd.read_csv('RR7_RNA_C57BL6J_GCvsSF_25d_Kegg_output_genome.csv')\n",
    "df_RR7_C5_75 = pd.read_csv('RR7_RNA_C57BL6J_GCvsSF_75d_Kegg_output_genome.csv')\n",
    "df_RR10_R = pd.read_csv('RR10_mRNA_Kegg_output_genome.csv')\n",
    "df_RR23 = pd.read_csv('RR23_RNA_Kegg_output_genome.csv')\n",
    "df_MHU1_MGGC = pd.read_csv('MHU1_RNA_MGvGC_Kegg_output_genome.csv')\n",
    "df_MHU3 = pd.read_csv('MHU3_RNA_Kegg_output_genome.csv')\n",
    "df_JAXA_PF1 = pd.read_csv('JAXA_RNA_preVflight1_Kegg_output_genome.csv')\n",
    "df_JAXA_PF4 = pd.read_csv('JAXA_RNA_preVflight4_Kegg_output_genome.csv')"
   ]
  },
  {
   "cell_type": "code",
   "execution_count": null,
   "metadata": {},
   "outputs": [],
   "source": [
    "# read in PTM data\n",
    "df_RR10_PTM = pd.read_csv('RR10_Phos_Kegg_output_genome.csv')"
   ]
  },
  {
   "cell_type": "code",
   "execution_count": null,
   "metadata": {},
   "outputs": [],
   "source": [
    "# read in epigenomic data\n",
    "df_RR1_E = pd.read_csv('RR1_Epi_Kegg_output_genome.csv')\n",
    "df_RR3_E = pd.read_csv('RR3_Epi_Kegg_output_genome.csv')"
   ]
  },
  {
   "cell_type": "code",
   "execution_count": null,
   "metadata": {},
   "outputs": [],
   "source": [
    "# make a list of the dataframes\n",
    "df_list = [df_BNL3, df_I4_ex_IP, df_I4_pl_IP, df_NSRL_F, df_NSRL_M, df_RR1, df_RR3, df_RR10, \n",
    "           df_RR19, df_RR1_R, df_RR3_R, df_RR7_C3_25, df_RR7_C3_75, df_RR7_C5_25, df_RR7_C5_75, \n",
    "           df_RR10_R, df_RR23, df_MHU1_MGGC, df_MHU3, df_JAXA_PF1, df_JAXA_PF4, df_RR10_PTM, \n",
    "           df_RR1_E, df_RR3_E]"
   ]
  },
  {
   "cell_type": "code",
   "execution_count": null,
   "metadata": {},
   "outputs": [],
   "source": [
    "# for loop to add a column for the sample name\n",
    "for df in df_list:\n",
    "    if df is df_BNL3:\n",
    "        df['Sample'] = 'BNL3_Protein'\n",
    "    elif df is df_I4_ex_IP:\n",
    "        df['Sample'] = 'Inspiration4_exosomes_immpostVpre_Protein'\n",
    "    elif df is df_I4_pl_IP:\n",
    "        df['Sample'] = 'Inspiration4_plasma_immpostVpre_Protein'\n",
    "    elif df is df_NSRL_F:\n",
    "        df['Sample'] = 'NSRL22A_II_F_vs_I_F_Protein'\n",
    "    elif df is df_NSRL_M:\n",
    "        df['Sample'] = 'NSRL22A_II_M_vs_I_M_Protein'\n",
    "    elif df is df_RR1:\n",
    "        df['Sample'] = 'RR1_Protein'\n",
    "    elif df is df_RR3:\n",
    "        df['Sample'] = 'RR3_Protein'\n",
    "    elif df is df_RR10:\n",
    "        df['Sample'] = 'RR10_Protein'\n",
    "    elif df is df_RR19:\n",
    "        df['Sample'] = 'RR19_Protein'\n",
    "    elif df is df_RR1_R:\n",
    "        df['Sample'] = 'RR1_RNA'\n",
    "    elif df is df_RR3_R:\n",
    "        df['Sample'] = 'RR3_RNA'\n",
    "    elif df is df_RR7_C3_25:\n",
    "        df['Sample'] = 'RR7_C3HHeJ_GCvsSF_25d_RNA'\n",
    "    elif df is df_RR7_C3_75:\n",
    "        df['Sample'] = 'RR7_C3HHeJ_GCvsSF_75d_RNA'\n",
    "    elif df is df_RR7_C5_25:\n",
    "        df['Sample'] = 'RR7_C57BL6J_GCvsSF_25d_RNA'\n",
    "    elif df is df_RR7_C5_75:\n",
    "        df['Sample'] = 'RR7_C57BL6J_GCvsSF_75d_RNA'\n",
    "    elif df is df_RR10_R:\n",
    "        df['Sample'] = 'RR10_RNA'\n",
    "    elif df is df_RR23:\n",
    "        df['Sample'] = 'RR23_RNA'\n",
    "    elif df is df_MHU1_MGGC:\n",
    "        df['Sample'] = 'MHU1_MGvGC_RNA'\n",
    "    elif df is df_MHU3:\n",
    "        df['Sample'] = 'MHU3_RNA'\n",
    "    elif df is df_JAXA_PF1:\n",
    "        df['Sample'] = 'JAXA_preVflight1_RNA'\n",
    "    elif df is df_JAXA_PF4:\n",
    "        df['Sample'] = 'JAXA_preVflight4_RNA'\n",
    "    elif df is df_RR10_PTM:\n",
    "        df['Sample'] = 'RR10_PTM'\n",
    "    elif df is df_RR1_E:\n",
    "        df['Sample'] = 'RR1_Epi'\n",
    "    elif df is df_RR3_E:\n",
    "        df['Sample'] = 'RR3_Epi'"
   ]
  },
  {
   "cell_type": "code",
   "execution_count": null,
   "metadata": {},
   "outputs": [],
   "source": [
    "# combine all dataframes into one\n",
    "df_all = pd.concat(df_list)"
   ]
  },
  {
   "cell_type": "code",
   "execution_count": null,
   "metadata": {},
   "outputs": [],
   "source": [
    "# keep only the columns we need\n",
    "kegg = df_all[['Sample', 'GO', 'Description', 'LogP', '#GeneInGOAndHitList', '%InGO']]"
   ]
  },
  {
   "cell_type": "code",
   "execution_count": null,
   "metadata": {},
   "outputs": [],
   "source": [
    "# drop the GO column\n",
    "kegg = kegg.drop(columns = ['GO'])"
   ]
  },
  {
   "cell_type": "code",
   "execution_count": null,
   "metadata": {},
   "outputs": [],
   "source": [
    "# make LogP values negative\n",
    "kegg['-LogP'] = kegg['LogP'] * -1"
   ]
  },
  {
   "cell_type": "code",
   "execution_count": null,
   "metadata": {},
   "outputs": [],
   "source": [
    "# drop the LogP column\n",
    "kegg = kegg.drop(columns = ['LogP'])"
   ]
  },
  {
   "cell_type": "code",
   "execution_count": null,
   "metadata": {},
   "outputs": [],
   "source": [
    "# calculate the gene ratio\n",
    "kegg['Gene Ratio'] = kegg['%InGO'] / 100"
   ]
  },
  {
   "cell_type": "code",
   "execution_count": null,
   "metadata": {},
   "outputs": [],
   "source": [
    "# drop the %InGO column\n",
    "kegg = kegg.drop(columns = ['%InGO'])"
   ]
  },
  {
   "cell_type": "code",
   "execution_count": null,
   "metadata": {},
   "outputs": [],
   "source": [
    "# rename the #GeneInGOAndHitList column\n",
    "kegg = kegg.rename(columns = {'#GeneInGOAndHitList': 'Gene Count'})"
   ]
  },
  {
   "cell_type": "code",
   "execution_count": null,
   "metadata": {},
   "outputs": [],
   "source": [
    "# reorder the columns\n",
    "new_kegg = kegg[['Sample', 'Description', 'Gene Count', 'Gene Ratio', '-LogP']]"
   ]
  },
  {
   "cell_type": "code",
   "execution_count": null,
   "metadata": {},
   "outputs": [],
   "source": [
    "# determine the maximum -LogP value for each description across all samples\n",
    "new_kegg['Max -LogP'] = new_kegg.groupby('Description')[\"-LogP\"].transform('max')"
   ]
  },
  {
   "cell_type": "code",
   "execution_count": null,
   "metadata": {},
   "outputs": [],
   "source": [
    "# count the number of times each description appears across all samples\n",
    "new_kegg['Count'] = new_kegg.groupby('Description')['Description'].transform('count')"
   ]
  },
  {
   "cell_type": "code",
   "execution_count": null,
   "metadata": {},
   "outputs": [],
   "source": [
    "#reassign dataframe variable\n",
    "df = new_kegg"
   ]
  },
  {
   "cell_type": "code",
   "execution_count": null,
   "metadata": {},
   "outputs": [],
   "source": [
    "#remove descriptions that appear in only one sample\n",
    "df = df[df['Count'] > 1]"
   ]
  },
  {
   "cell_type": "code",
   "execution_count": null,
   "metadata": {},
   "outputs": [],
   "source": [
    "#read in go list\n",
    "kegg_list = pd.read_csv('kegg_list.csv')"
   ]
  },
  {
   "cell_type": "code",
   "execution_count": null,
   "metadata": {},
   "outputs": [],
   "source": [
    "#turn go list into a list\n",
    "kegg_list = kegg_list['Description'].tolist()"
   ]
  },
  {
   "cell_type": "code",
   "execution_count": null,
   "metadata": {},
   "outputs": [],
   "source": [
    "#match go list to descriptions in df\n",
    "df = df[df['Description'].isin(kegg_list)]"
   ]
  },
  {
   "cell_type": "code",
   "execution_count": null,
   "metadata": {},
   "outputs": [],
   "source": [
    "#sort the dataframe according the the sample order list\n",
    "sample_order = ['RR10_PTM', 'BNL3_Protein', 'NSRL22A_II_F_vs_I_F_Protein', 'NSRL22A_II_M_vs_I_M_Protein', 'RR10_Protein', \n",
    "                'RR1_Protein', 'RR3_Protein', 'RR19_Protein', 'Inspiration4_plasma_immpostVpre_Protein', \n",
    "                'Inspiration4_exosomes_immpostVpre_Protein', 'RR7_C3HHeJ_GCvsSF_25d_RNA', 'RR7_C57BL6J_GCvsSF_25d_RNA', \n",
    "                'RR10_RNA', 'MHU3_RNA', 'RR23_RNA', 'RR1_RNA', 'RR3_RNA', 'RR7_C3HHeJ_GCvsSF_75d_RNA', \n",
    "                'RR7_C57BL6J_GCvsSF_75d_RNA', 'MHU1_MGvGC_RNA', 'JAXA_preVflight1_RNA', 'JAXA_preVflight4_RNA', 'RR1_Epi', \n",
    "                'RR3_Epi']\n",
    "df['Sample'] = pd.Categorical(df['Sample'], categories=sample_order, ordered=True)"
   ]
  },
  {
   "cell_type": "code",
   "execution_count": null,
   "metadata": {},
   "outputs": [],
   "source": [
    "# sort by sample and gene count\n",
    "df = df.sort_values(by=['Count', 'Max -LogP', 'Gene Ratio'], ascending=[False, False, False])"
   ]
  },
  {
   "cell_type": "markdown",
   "metadata": {},
   "source": [
    "## Kegg Pathway Enrichment"
   ]
  },
  {
   "attachments": {},
   "cell_type": "markdown",
   "metadata": {},
   "source": [
    "#### Generate the plot"
   ]
  },
  {
   "cell_type": "code",
   "execution_count": null,
   "metadata": {},
   "outputs": [],
   "source": [
    "#set the style\n",
    "sns.set_context(\"paper\")"
   ]
  },
  {
   "cell_type": "code",
   "execution_count": null,
   "metadata": {},
   "outputs": [],
   "source": [
    "# Create figure and axes\n",
    "fig, ax = plt.subplots(figsize=(12,6))\n",
    "sns.scatterplot(data=df, x='Sample', y='Description', size='-LogP', edgecolor=\"w\", hue='Gene Ratio', \n",
    "                sizes=(100, 300), palette='flare', legend=\"brief\", ax=ax)\n",
    "# Create custom legend with -LogP\n",
    "h, l = ax.get_legend_handles_labels()\n",
    "plt.legend(h[8:15], l[8:15], title='-LogP', bbox_to_anchor=(1.2, 0.8), loc=2, fontsize=14, \n",
    "           borderaxespad=0., title_fontsize=14)\n",
    "# Create custom olorbar legend with Gene count\n",
    "handles, labels = ax.get_legend_handles_labels()\n",
    "sm = plt.cm.ScalarMappable(cmap='flare', norm=plt.Normalize(vmin=df['Gene Ratio'].min(), vmax=df['Gene Ratio'].max()))\n",
    "sm.set_array([])\n",
    "cbar = fig.colorbar(sm, ax=ax, shrink=0.8, pad=0.3)\n",
    "cbar.ax.tick_params(labelsize=13)\n",
    "cbar.set_label(label='Enrichment', size=14, labelpad=10)\n",
    "\n",
    "# Set x and y labels, limits, ticks, and title\n",
    "ax.set_ylabel(None)\n",
    "ax.set_xlabel(None)\n",
    "ax.set_xmargin(0.06)\n",
    "ax.set_ylim(bottom=16.5, top=-0.5)\n",
    "plt.yticks(fontsize=13)\n",
    "ax.xaxis.tick_bottom()\n",
    "ax.xaxis.set_label_position('bottom')\n",
    "plt.xticks(fontsize=13, rotation=90)\n",
    "\n",
    "plt.show()"
   ]
  }
 ],
 "metadata": {
  "kernelspec": {
   "display_name": "base",
   "language": "python",
   "name": "python3"
  },
  "language_info": {
   "codemirror_mode": {
    "name": "ipython",
    "version": 3
   },
   "file_extension": ".py",
   "mimetype": "text/x-python",
   "name": "python",
   "nbconvert_exporter": "python",
   "pygments_lexer": "ipython3",
   "version": "3.10.6"
  },
  "orig_nbformat": 4
 },
 "nbformat": 4,
 "nbformat_minor": 2
}
